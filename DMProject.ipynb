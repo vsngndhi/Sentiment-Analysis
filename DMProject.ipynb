{
 "cells": [
  {
   "cell_type": "code",
   "execution_count": 2,
   "metadata": {},
   "outputs": [],
   "source": [
    "import pandas as pd\n",
    "import numpy as np\n",
    "from string import punctuation\n",
    "from sklearn import svm\n",
    "from sklearn.metrics import classification_report\n",
    "from sklearn.feature_extraction.text import TfidfVectorizer\n",
    "from sklearn.model_selection import train_test_split\n",
    "import re"
   ]
  },
  {
   "cell_type": "code",
   "execution_count": 3,
   "metadata": {},
   "outputs": [
    {
     "data": {
      "text/html": [
       "<div>\n",
       "<style scoped>\n",
       "    .dataframe tbody tr th:only-of-type {\n",
       "        vertical-align: middle;\n",
       "    }\n",
       "\n",
       "    .dataframe tbody tr th {\n",
       "        vertical-align: top;\n",
       "    }\n",
       "\n",
       "    .dataframe thead th {\n",
       "        text-align: right;\n",
       "    }\n",
       "</style>\n",
       "<table border=\"1\" class=\"dataframe\">\n",
       "  <thead>\n",
       "    <tr style=\"text-align: right;\">\n",
       "      <th></th>\n",
       "      <th>SentimentText</th>\n",
       "      <th>Sentiment</th>\n",
       "    </tr>\n",
       "  </thead>\n",
       "  <tbody>\n",
       "    <tr>\n",
       "      <th>0</th>\n",
       "      <td>one of the other reviewers has mentioned that ...</td>\n",
       "      <td>positive</td>\n",
       "    </tr>\n",
       "    <tr>\n",
       "      <th>1</th>\n",
       "      <td>a wonderful little production. &lt;br /&gt;&lt;br /&gt;the...</td>\n",
       "      <td>positive</td>\n",
       "    </tr>\n",
       "    <tr>\n",
       "      <th>2</th>\n",
       "      <td>i thought this was a wonderful way to spend ti...</td>\n",
       "      <td>positive</td>\n",
       "    </tr>\n",
       "    <tr>\n",
       "      <th>3</th>\n",
       "      <td>basically there's a family where a little boy ...</td>\n",
       "      <td>negative</td>\n",
       "    </tr>\n",
       "    <tr>\n",
       "      <th>4</th>\n",
       "      <td>petter mattei's \"love in the time of money\" is...</td>\n",
       "      <td>positive</td>\n",
       "    </tr>\n",
       "  </tbody>\n",
       "</table>\n",
       "</div>"
      ],
      "text/plain": [
       "                                       SentimentText Sentiment\n",
       "0  one of the other reviewers has mentioned that ...  positive\n",
       "1  a wonderful little production. <br /><br />the...  positive\n",
       "2  i thought this was a wonderful way to spend ti...  positive\n",
       "3  basically there's a family where a little boy ...  negative\n",
       "4  petter mattei's \"love in the time of money\" is...  positive"
      ]
     },
     "execution_count": 3,
     "metadata": {},
     "output_type": "execute_result"
    }
   ],
   "source": [
    "data = pd.read_csv(\"/Users/varunnegandhi/Documents/Data Mining/IMDB Dataset.csv\", encoding='latin1')\n",
    "data['SentimentText'] = data['SentimentText'].str.lower()\n",
    "data.head()"
   ]
  },
  {
   "cell_type": "code",
   "execution_count": 4,
   "metadata": {},
   "outputs": [],
   "source": [
    "for i in range(len(data)):\n",
    "    data['SentimentText'][i] = re.sub('<.*?>', '', data['SentimentText'][i])\n",
    "    data['SentimentText'][i] = ''.join(ch for ch in data['SentimentText'][i] if ch not in punctuation)"
   ]
  },
  {
   "cell_type": "code",
   "execution_count": 5,
   "metadata": {},
   "outputs": [
    {
     "data": {
      "text/html": [
       "<div>\n",
       "<style scoped>\n",
       "    .dataframe tbody tr th:only-of-type {\n",
       "        vertical-align: middle;\n",
       "    }\n",
       "\n",
       "    .dataframe tbody tr th {\n",
       "        vertical-align: top;\n",
       "    }\n",
       "\n",
       "    .dataframe thead th {\n",
       "        text-align: right;\n",
       "    }\n",
       "</style>\n",
       "<table border=\"1\" class=\"dataframe\">\n",
       "  <thead>\n",
       "    <tr style=\"text-align: right;\">\n",
       "      <th></th>\n",
       "      <th>SentimentText</th>\n",
       "      <th>Sentiment</th>\n",
       "    </tr>\n",
       "  </thead>\n",
       "  <tbody>\n",
       "    <tr>\n",
       "      <th>0</th>\n",
       "      <td>one of the other reviewers has mentioned that ...</td>\n",
       "      <td>1</td>\n",
       "    </tr>\n",
       "    <tr>\n",
       "      <th>1</th>\n",
       "      <td>a wonderful little production the filming tech...</td>\n",
       "      <td>1</td>\n",
       "    </tr>\n",
       "    <tr>\n",
       "      <th>2</th>\n",
       "      <td>i thought this was a wonderful way to spend ti...</td>\n",
       "      <td>1</td>\n",
       "    </tr>\n",
       "    <tr>\n",
       "      <th>3</th>\n",
       "      <td>basically theres a family where a little boy j...</td>\n",
       "      <td>0</td>\n",
       "    </tr>\n",
       "    <tr>\n",
       "      <th>4</th>\n",
       "      <td>petter matteis love in the time of money is a ...</td>\n",
       "      <td>1</td>\n",
       "    </tr>\n",
       "  </tbody>\n",
       "</table>\n",
       "</div>"
      ],
      "text/plain": [
       "                                       SentimentText  Sentiment\n",
       "0  one of the other reviewers has mentioned that ...          1\n",
       "1  a wonderful little production the filming tech...          1\n",
       "2  i thought this was a wonderful way to spend ti...          1\n",
       "3  basically theres a family where a little boy j...          0\n",
       "4  petter matteis love in the time of money is a ...          1"
      ]
     },
     "execution_count": 5,
     "metadata": {},
     "output_type": "execute_result"
    }
   ],
   "source": [
    "data['Sentiment'] = data['Sentiment'].map({'positive': 1, 'negative': 0})\n",
    "data.head()"
   ]
  },
  {
   "cell_type": "code",
   "execution_count": 6,
   "metadata": {},
   "outputs": [
    {
     "name": "stdout",
     "output_type": "stream",
     "text": [
      "16880    despite some moments in heavy rain an encounte...\n",
      "18337    a fabulous filmwhich i have now watched severa...\n",
      "11170    creepshow 2 is little more than a pale imitati...\n",
      "17714    a pretty worthless made for television movie t...\n",
      "28539    i think i read this someplace joe johnston dir...\n",
      "Name: SentimentText, dtype: object\n",
      "16477    at first look of the plot tagline i figured it...\n",
      "5969     good lord how this ended up in our dvd player ...\n",
      "46459    two sorcerers battle in the fourth dimensionon...\n",
      "33297    caligula shares many of the same attributes as...\n",
      "35047    imagine the big chill with a cast of twentysom...\n",
      "Name: SentimentText, dtype: object\n",
      "  (0, 4993)\t0.10195110290258493\n",
      "  (0, 4956)\t0.09366153833369903\n",
      "  (0, 4645)\t0.15497335406626048\n",
      "  (0, 4512)\t0.08786757816554114\n",
      "  (0, 4459)\t0.08471884389782676\n",
      "  (0, 4337)\t0.14313494911324562\n",
      "  (0, 4224)\t0.16031826254701523\n",
      "  (0, 4220)\t0.1533308543619963\n",
      "  (0, 4195)\t0.12428343408210535\n",
      "  (0, 4163)\t0.16937165947774815\n",
      "  (0, 4063)\t0.15117381172461777\n",
      "  (0, 4003)\t0.14394152440131763\n",
      "  (0, 3975)\t0.10320181320068479\n",
      "  (0, 3915)\t0.1239395606050094\n",
      "  (0, 3845)\t0.15474496617197328\n",
      "  (0, 3515)\t0.1673506604336061\n",
      "  (0, 3504)\t0.08501193015943156\n",
      "  (0, 3348)\t0.12625719565928242\n",
      "  (0, 3065)\t0.1692408201633391\n",
      "  (0, 3019)\t0.10114134663735853\n",
      "  (0, 2931)\t0.06802031142687816\n",
      "  (0, 2897)\t0.18078961609575825\n",
      "  (0, 2895)\t0.10560528345731184\n",
      "  (0, 2802)\t0.12944281330490978\n",
      "  (0, 2657)\t0.0811675591556542\n",
      "  :\t:\n",
      "  (39999, 2534)\t0.1117395316688284\n",
      "  (39999, 2515)\t0.14007616315793855\n",
      "  (39999, 2500)\t0.11422119398563527\n",
      "  (39999, 2371)\t0.16777335279442246\n",
      "  (39999, 2370)\t0.13774462356780542\n",
      "  (39999, 2332)\t0.161710984362276\n",
      "  (39999, 2322)\t0.16354184757272353\n",
      "  (39999, 2317)\t0.16354184757272353\n",
      "  (39999, 2234)\t0.11183980699398369\n",
      "  (39999, 2157)\t0.17473350471636423\n",
      "  (39999, 2120)\t0.1762224911102807\n",
      "  (39999, 2082)\t0.15819657186482924\n",
      "  (39999, 1942)\t0.05282447383721029\n",
      "  (39999, 1616)\t0.16084102869650183\n",
      "  (39999, 1419)\t0.10436440438634756\n",
      "  (39999, 1393)\t0.17437400915089296\n",
      "  (39999, 1364)\t0.16538174493979244\n",
      "  (39999, 1363)\t0.1529471921603306\n",
      "  (39999, 1181)\t0.10321622372957386\n",
      "  (39999, 905)\t0.12612454281877922\n",
      "  (39999, 760)\t0.1408177230492626\n",
      "  (39999, 753)\t0.06787735628052591\n",
      "  (39999, 740)\t0.11332054385790329\n",
      "  (39999, 370)\t0.08913109681196228\n",
      "  (39999, 111)\t0.06803003285680904\n",
      "  (0, 4976)\t0.08405049421239967\n",
      "  (0, 4954)\t0.17681371240106394\n",
      "  (0, 4941)\t0.09770611381643168\n",
      "  (0, 4833)\t0.05619026884154166\n",
      "  (0, 4829)\t0.07883513067747101\n",
      "  (0, 4827)\t0.12444711377212665\n",
      "  (0, 4726)\t0.11025346804523951\n",
      "  (0, 4649)\t0.14280124640789282\n",
      "  (0, 4620)\t0.07648353762325982\n",
      "  (0, 4475)\t0.055897798222909294\n",
      "  (0, 4473)\t0.06422899685665025\n",
      "  (0, 4393)\t0.09789642034045959\n",
      "  (0, 4340)\t0.08771818111913358\n",
      "  (0, 4215)\t0.14175436921165357\n",
      "  (0, 4177)\t0.08515116043934756\n",
      "  (0, 4121)\t0.08063711527135647\n",
      "  (0, 4103)\t0.09041396372746986\n",
      "  (0, 3954)\t0.12331385939006385\n",
      "  (0, 3926)\t0.10560012940714436\n",
      "  (0, 3843)\t0.06381966908308377\n",
      "  (0, 3752)\t0.1255806758222286\n",
      "  (0, 3723)\t0.1320884552297911\n",
      "  (0, 3559)\t0.10470581160460919\n",
      "  (0, 3494)\t0.10454063437690864\n",
      "  (0, 3306)\t0.23355558296017762\n",
      "  :\t:\n",
      "  (9999, 435)\t0.053671945137304694\n",
      "  (9999, 431)\t0.060733430354859896\n",
      "  (9999, 427)\t0.073158438583811\n",
      "  (9999, 373)\t0.04508279486601952\n",
      "  (9999, 368)\t0.06732505975607096\n",
      "  (9999, 345)\t0.06525744602697613\n",
      "  (9999, 341)\t0.06916497155797763\n",
      "  (9999, 340)\t0.07057962740447317\n",
      "  (9999, 307)\t0.06337236258028382\n",
      "  (9999, 306)\t0.06464367195172584\n",
      "  (9999, 222)\t0.04326164035713768\n",
      "  (9999, 211)\t0.07599864186888251\n",
      "  (9999, 202)\t0.13806533569566815\n",
      "  (9999, 201)\t0.05800695075937929\n",
      "  (9999, 178)\t0.06881550490913942\n",
      "  (9999, 163)\t0.07923731413512923\n",
      "  (9999, 132)\t0.061547285781243875\n",
      "  (9999, 126)\t0.06062775884260395\n",
      "  (9999, 88)\t0.05869656559226229\n",
      "  (9999, 81)\t0.04476280728775855\n",
      "  (9999, 80)\t0.06123249578055493\n",
      "  (9999, 62)\t0.06364292230849919\n",
      "  (9999, 58)\t0.07104052768414537\n",
      "  (9999, 5)\t0.057791486226802066\n",
      "  (9999, 3)\t0.06903266784783407\n"
     ]
    }
   ],
   "source": [
    "data_x = data['SentimentText']\n",
    "data_y = data['Sentiment']\n",
    "cv = TfidfVectorizer(min_df=1, stop_words='english',max_features=5000)\n",
    "x_train, x_test, y_train, y_test = train_test_split(data_x, data_y, test_size=0.2, random_state=4)\n",
    "print(x_train.head())\n",
    "print(x_test.head())\n",
    "cv.fit(x_train)\n",
    "train_vectors = cv.transform(x_train)\n",
    "test_vectors = cv.transform(x_test)\n",
    "print(train_vectors)\n",
    "print(test_vectors)"
   ]
  },
  {
   "cell_type": "code",
   "execution_count": 7,
   "metadata": {},
   "outputs": [
    {
     "name": "stdout",
     "output_type": "stream",
     "text": [
      "(40000,)\n",
      "<class 'pandas.core.series.Series'>\n",
      "(10000,)\n",
      "train vector:\n",
      "test vector\n",
      "(40000, 5000)\n",
      "(10000, 5000)\n"
     ]
    }
   ],
   "source": [
    "print(x_train.shape)\n",
    "print(type(x_train))\n",
    "print(x_test.shape)\n",
    "print(\"train vector:\")\n",
    "#print(train_vectors)\n",
    "print(\"test vector\")\n",
    "#print(test_vectors)\n",
    "print(train_vectors.shape)\n",
    "print(test_vectors.shape)"
   ]
  },
  {
   "cell_type": "code",
   "execution_count": 38,
   "metadata": {},
   "outputs": [
    {
     "name": "stdout",
     "output_type": "stream",
     "text": [
      "{'0': {'precision': 0.8900651465798045, 'recall': 0.8681493248610008, 'f1-score': 0.8789706473663049, 'support': 5036}, '1': {'precision': 0.8694968553459119, 'recall': 0.8912167606768735, 'f1-score': 0.8802228412256268, 'support': 4964}, 'accuracy': 0.8796, 'macro avg': {'precision': 0.8797810009628582, 'recall': 0.8796830427689372, 'f1-score': 0.8795967442959658, 'support': 10000}, 'weighted avg': {'precision': 0.8798550468113002, 'recall': 0.8796, 'f1-score': 0.8795922363980724, 'support': 10000}}\n"
     ]
    }
   ],
   "source": [
    "classifier_linear = svm.SVC(kernel='linear')\n",
    "classifier_linear.fit(train_vectors, y_train)\n",
    "prediction_linear = classifier_linear.predict(test_vectors)\n",
    "report = classification_report(y_test, prediction_linear, output_dict=True)\n",
    "print(report)"
   ]
  },
  {
   "cell_type": "code",
   "execution_count": 42,
   "metadata": {},
   "outputs": [
    {
     "name": "stdout",
     "output_type": "stream",
     "text": [
      "[0]\n"
     ]
    }
   ],
   "source": [
    "review = \"\"\"It's not even 5 days since i purchased this product.\n",
    "I would say this a specially blended worst Phone in all formats.\n",
    "ISSUE 1:\n",
    "Have you ever heard of phone which gets drained even in standby mode during night?\n",
    "Kindly please see the screenshot if you want to believe my statement.\n",
    "My phone was in full charge at night 10:07 PM . I took this screenshot and went to sleep.\n",
    "Then I woke up at morning and 6:35 AM and battery got drained by 56% in just standby condition.\n",
    "If this is the case consider how many hours it will work, during day time.\n",
    "It's not even 5 hours the battery is able to withstand.\n",
    "ISSUE 2:\n",
    "Apart from the battery, the next issue is the heating issue .I purchased a iron box recently from Bajaj in this sale.\n",
    "But I realized this phone acts a very good Iron box than the Bajaj Iron box. I am using only my headphones to get connected in the call. I am not sure when this phone is will get busted due to this heating issue. It is definitely a challenge to hold this phone for even 1 minute. The heat that the phone is causing will definitely burn your hands and for man if you keep this phone in your pant pocket easily this will lead to infertility for you. Kindly please be aware about that.\n",
    "Issue 3:\n",
    "Even some unknown brands has a better touch sensitivity. The touch sensitivity is pathetic, if perform some operation it will easily take 1-2 minutes for the phone to response.\n",
    "For your kind information my system has 73% of Memory free and the RAM is also 56% free.\n",
    "Kindly please make this Review famous and lets make everyone aware of this issue with this phone.\n",
    "Let's save people from buying this phone. There are people who don't even know what to do if this issue happens after 10 days from the date of purchase. So I feel at least this review will help people from purchasing this product in mere future.\"\"\"\n",
    "review_vector = cv.transform([review]) # vectorizing\n",
    "print(classifier_linear.predict(review_vector))"
   ]
  },
  {
   "cell_type": "code",
   "execution_count": 44,
   "metadata": {},
   "outputs": [
    {
     "data": {
      "text/html": [
       "<div>\n",
       "<style scoped>\n",
       "    .dataframe tbody tr th:only-of-type {\n",
       "        vertical-align: middle;\n",
       "    }\n",
       "\n",
       "    .dataframe tbody tr th {\n",
       "        vertical-align: top;\n",
       "    }\n",
       "\n",
       "    .dataframe thead th {\n",
       "        text-align: right;\n",
       "    }\n",
       "</style>\n",
       "<table border=\"1\" class=\"dataframe\">\n",
       "  <thead>\n",
       "    <tr style=\"text-align: right;\">\n",
       "      <th></th>\n",
       "      <th>SentimentText</th>\n",
       "      <th>Sentiment</th>\n",
       "    </tr>\n",
       "  </thead>\n",
       "  <tbody>\n",
       "    <tr>\n",
       "      <th>0</th>\n",
       "      <td>first think another disney movie, might good, ...</td>\n",
       "      <td>1</td>\n",
       "    </tr>\n",
       "    <tr>\n",
       "      <th>1</th>\n",
       "      <td>put aside dr. house repeat missed, desperate h...</td>\n",
       "      <td>0</td>\n",
       "    </tr>\n",
       "    <tr>\n",
       "      <th>2</th>\n",
       "      <td>big fan stephen king's work, film made even gr...</td>\n",
       "      <td>1</td>\n",
       "    </tr>\n",
       "    <tr>\n",
       "      <th>3</th>\n",
       "      <td>watched horrid thing tv. needless say one movi...</td>\n",
       "      <td>0</td>\n",
       "    </tr>\n",
       "    <tr>\n",
       "      <th>4</th>\n",
       "      <td>truly enjoyed film. acting terrific plot. jeff...</td>\n",
       "      <td>1</td>\n",
       "    </tr>\n",
       "  </tbody>\n",
       "</table>\n",
       "</div>"
      ],
      "text/plain": [
       "                                       SentimentText  Sentiment\n",
       "0  first think another disney movie, might good, ...          1\n",
       "1  put aside dr. house repeat missed, desperate h...          0\n",
       "2  big fan stephen king's work, film made even gr...          1\n",
       "3  watched horrid thing tv. needless say one movi...          0\n",
       "4  truly enjoyed film. acting terrific plot. jeff...          1"
      ]
     },
     "execution_count": 44,
     "metadata": {},
     "output_type": "execute_result"
    }
   ],
   "source": [
    "data_test = pd.read_csv(\"/Users/varunnegandhi/Documents/Data Mining/dataset.csv\", encoding='latin1')\n",
    "data_test['SentimentText'] = data_test['SentimentText'].str.lower()\n",
    "data_test.head()"
   ]
  },
  {
   "cell_type": "code",
   "execution_count": 46,
   "metadata": {},
   "outputs": [],
   "source": [
    "data_test_x = data_test['SentimentText']\n",
    "data_test_y = data_test['Sentiment']\n",
    "test1_vector = cv.transform(data_test_x)"
   ]
  },
  {
   "cell_type": "code",
   "execution_count": 47,
   "metadata": {},
   "outputs": [
    {
     "name": "stdout",
     "output_type": "stream",
     "text": [
      "{'0': {'precision': 0.9186277759363606, 'recall': 0.88688, 'f1-score': 0.902474763920547, 'support': 12500}, '1': {'precision': 0.8906588308072997, 'recall': 0.92144, 'f1-score': 0.9057879836426549, 'support': 12500}, 'accuracy': 0.90416, 'macro avg': {'precision': 0.9046433033718302, 'recall': 0.9041600000000001, 'f1-score': 0.904131373781601, 'support': 25000}, 'weighted avg': {'precision': 0.9046433033718301, 'recall': 0.90416, 'f1-score': 0.9041313737816008, 'support': 25000}}\n"
     ]
    }
   ],
   "source": [
    "prediction_linear_test = classifier_linear.predict(test1_vector)\n",
    "report = classification_report(data_test_y, prediction_linear_test, output_dict=True)\n",
    "print(report)"
   ]
  },
  {
   "cell_type": "code",
   "execution_count": 48,
   "metadata": {},
   "outputs": [
    {
     "name": "stderr",
     "output_type": "stream",
     "text": [
      "/Users/varunnegandhi/anaconda3/lib/python3.7/site-packages/sklearn/svm/base.py:193: FutureWarning: The default value of gamma will change from 'auto' to 'scale' in version 0.22 to account better for unscaled features. Set gamma explicitly to 'auto' or 'scale' to avoid this warning.\n",
      "  \"avoid this warning.\", FutureWarning)\n"
     ]
    },
    {
     "data": {
      "text/plain": [
       "SVC(C=1.0, cache_size=200, class_weight=None, coef0=0.0,\n",
       "    decision_function_shape='ovr', degree=3, gamma='auto_deprecated',\n",
       "    kernel='poly', max_iter=-1, probability=False, random_state=None,\n",
       "    shrinking=True, tol=0.001, verbose=False)"
      ]
     },
     "execution_count": 48,
     "metadata": {},
     "output_type": "execute_result"
    }
   ],
   "source": [
    "classifier_linear = svm.SVC(kernel='poly')\n",
    "classifier_linear.fit(train_vectors, y_train)"
   ]
  },
  {
   "cell_type": "code",
   "execution_count": 49,
   "metadata": {},
   "outputs": [
    {
     "name": "stdout",
     "output_type": "stream",
     "text": [
      "{'0': {'precision': 0.0, 'recall': 0.0, 'f1-score': 0.0, 'support': 5036}, '1': {'precision': 0.4964, 'recall': 1.0, 'f1-score': 0.6634589681903235, 'support': 4964}, 'accuracy': 0.4964, 'macro avg': {'precision': 0.2482, 'recall': 0.5, 'f1-score': 0.33172948409516173, 'support': 10000}, 'weighted avg': {'precision': 0.24641296000000001, 'recall': 0.4964, 'f1-score': 0.3293410318096766, 'support': 10000}}\n"
     ]
    },
    {
     "name": "stderr",
     "output_type": "stream",
     "text": [
      "/Users/varunnegandhi/anaconda3/lib/python3.7/site-packages/sklearn/metrics/classification.py:1437: UndefinedMetricWarning: Precision and F-score are ill-defined and being set to 0.0 in labels with no predicted samples.\n",
      "  'precision', 'predicted', average, warn_for)\n"
     ]
    }
   ],
   "source": [
    "prediction_poly = classifier_linear.predict(test_vectors)\n",
    "report = classification_report(y_test, prediction_poly, output_dict=True)\n",
    "print(report)"
   ]
  },
  {
   "cell_type": "code",
   "execution_count": 50,
   "metadata": {},
   "outputs": [
    {
     "name": "stderr",
     "output_type": "stream",
     "text": [
      "/Users/varunnegandhi/anaconda3/lib/python3.7/site-packages/sklearn/svm/base.py:193: FutureWarning: The default value of gamma will change from 'auto' to 'scale' in version 0.22 to account better for unscaled features. Set gamma explicitly to 'auto' or 'scale' to avoid this warning.\n",
      "  \"avoid this warning.\", FutureWarning)\n"
     ]
    },
    {
     "data": {
      "text/plain": [
       "SVC(C=1.0, cache_size=200, class_weight=None, coef0=0.0,\n",
       "    decision_function_shape='ovr', degree=3, gamma='auto_deprecated',\n",
       "    kernel='rbf', max_iter=-1, probability=False, random_state=None,\n",
       "    shrinking=True, tol=0.001, verbose=False)"
      ]
     },
     "execution_count": 50,
     "metadata": {},
     "output_type": "execute_result"
    }
   ],
   "source": [
    "classifier_rbf = svm.SVC(kernel='rbf')\n",
    "classifier_rbf.fit(train_vectors, y_train)"
   ]
  },
  {
   "cell_type": "code",
   "execution_count": 51,
   "metadata": {},
   "outputs": [
    {
     "name": "stdout",
     "output_type": "stream",
     "text": [
      "{'0': {'precision': 0.0, 'recall': 0.0, 'f1-score': 0.0, 'support': 5036}, '1': {'precision': 0.4964, 'recall': 1.0, 'f1-score': 0.6634589681903235, 'support': 4964}, 'accuracy': 0.4964, 'macro avg': {'precision': 0.2482, 'recall': 0.5, 'f1-score': 0.33172948409516173, 'support': 10000}, 'weighted avg': {'precision': 0.24641296000000001, 'recall': 0.4964, 'f1-score': 0.3293410318096766, 'support': 10000}}\n"
     ]
    },
    {
     "name": "stderr",
     "output_type": "stream",
     "text": [
      "/Users/varunnegandhi/anaconda3/lib/python3.7/site-packages/sklearn/metrics/classification.py:1437: UndefinedMetricWarning: Precision and F-score are ill-defined and being set to 0.0 in labels with no predicted samples.\n",
      "  'precision', 'predicted', average, warn_for)\n"
     ]
    }
   ],
   "source": [
    "prediction_rbf = classifier_rbf.predict(test_vectors)\n",
    "report = classification_report(y_test, prediction_rbf, output_dict=True)\n",
    "print(report)"
   ]
  },
  {
   "cell_type": "code",
   "execution_count": 52,
   "metadata": {},
   "outputs": [
    {
     "name": "stderr",
     "output_type": "stream",
     "text": [
      "/Users/varunnegandhi/anaconda3/lib/python3.7/site-packages/sklearn/svm/base.py:193: FutureWarning: The default value of gamma will change from 'auto' to 'scale' in version 0.22 to account better for unscaled features. Set gamma explicitly to 'auto' or 'scale' to avoid this warning.\n",
      "  \"avoid this warning.\", FutureWarning)\n"
     ]
    },
    {
     "data": {
      "text/plain": [
       "SVC(C=1.0, cache_size=200, class_weight=None, coef0=0.0,\n",
       "    decision_function_shape='ovr', degree=3, gamma='auto_deprecated',\n",
       "    kernel='sigmoid', max_iter=-1, probability=False, random_state=None,\n",
       "    shrinking=True, tol=0.001, verbose=False)"
      ]
     },
     "execution_count": 52,
     "metadata": {},
     "output_type": "execute_result"
    }
   ],
   "source": [
    "classifier_sigmoid = svm.SVC(kernel='sigmoid')\n",
    "classifier_sigmoid.fit(train_vectors, y_train)"
   ]
  },
  {
   "cell_type": "code",
   "execution_count": 9,
   "metadata": {},
   "outputs": [
    {
     "name": "stderr",
     "output_type": "stream",
     "text": [
      "/Users/varunnegandhi/anaconda3/lib/python3.7/site-packages/ipykernel_launcher.py:4: SettingWithCopyWarning: \n",
      "A value is trying to be set on a copy of a slice from a DataFrame\n",
      "\n",
      "See the caveats in the documentation: http://pandas.pydata.org/pandas-docs/stable/user_guide/indexing.html#returning-a-view-versus-a-copy\n",
      "  after removing the cwd from sys.path.\n",
      "/Users/varunnegandhi/anaconda3/lib/python3.7/site-packages/ipykernel_launcher.py:5: SettingWithCopyWarning: \n",
      "A value is trying to be set on a copy of a slice from a DataFrame\n",
      "\n",
      "See the caveats in the documentation: http://pandas.pydata.org/pandas-docs/stable/user_guide/indexing.html#returning-a-view-versus-a-copy\n",
      "  \"\"\"\n"
     ]
    },
    {
     "name": "stdout",
     "output_type": "stream",
     "text": [
      "Cost:  110\n",
      "Kernel:  linear\n",
      "Training Data:\n",
      "{'0': {'precision': 0.8667883211678832, 'recall': 0.8488880063542494, 'f1-score': 0.857744783306581, 'support': 5036}, '1': {'precision': 0.8498421468034728, 'recall': 0.8676470588235294, 'f1-score': 0.8586523125996812, 'support': 4964}, 'accuracy': 0.8582, 'macro avg': {'precision': 0.858315233985678, 'recall': 0.8582675325888894, 'f1-score': 0.8581985479531311, 'support': 10000}, 'weighted avg': {'precision': 0.8583762402133898, 'recall': 0.8582, 'f1-score': 0.8581952808476759, 'support': 10000}}\n",
      "Precision:  0.8583762402133898\n",
      "Recall:  0.8582\n",
      "F1-Score:  0.8581952808476759\n",
      "Test Data:\n",
      "{'0': {'precision': 0.9287862775384115, 'recall': 0.914, 'f1-score': 0.9213338171847909, 'support': 12500}, '1': {'precision': 0.9153476651704858, 'recall': 0.92992, 'f1-score': 0.9225762927100282, 'support': 12500}, 'accuracy': 0.92196, 'macro avg': {'precision': 0.9220669713544487, 'recall': 0.92196, 'f1-score': 0.9219550549474096, 'support': 25000}, 'weighted avg': {'precision': 0.9220669713544487, 'recall': 0.92196, 'f1-score': 0.9219550549474097, 'support': 25000}}\n",
      "Precision:  0.9220669713544487\n",
      "Recall:  0.92196\n",
      "F1-Score:  0.9219550549474097\n",
      "Cost:  120\n",
      "Kernel:  linear\n",
      "Training Data:\n",
      "{'0': {'precision': 0.8668020304568528, 'recall': 0.8476965845909452, 'f1-score': 0.8571428571428572, 'support': 5036}, '1': {'precision': 0.8488669950738916, 'recall': 0.8678485092667204, 'f1-score': 0.8582528140253013, 'support': 4964}, 'accuracy': 0.8577, 'macro avg': {'precision': 0.8578345127653721, 'recall': 0.8577725469288329, 'f1-score': 0.8576978355840792, 'support': 10000}, 'weighted avg': {'precision': 0.857899078892751, 'recall': 0.8577, 'f1-score': 0.8576938397393024, 'support': 10000}}\n",
      "Precision:  0.857899078892751\n",
      "Recall:  0.8577\n",
      "F1-Score:  0.8576938397393024\n",
      "Test Data:\n",
      "{'0': {'precision': 0.9279740154283395, 'recall': 0.91424, 'f1-score': 0.9210558130163208, 'support': 12500}, '1': {'precision': 0.9154907370910524, 'recall': 0.92904, 'f1-score': 0.9222156045265039, 'support': 12500}, 'accuracy': 0.92164, 'macro avg': {'precision': 0.921732376259696, 'recall': 0.92164, 'f1-score': 0.9216357087714123, 'support': 25000}, 'weighted avg': {'precision': 0.9217323762596961, 'recall': 0.92164, 'f1-score': 0.9216357087714123, 'support': 25000}}\n",
      "Precision:  0.9217323762596961\n",
      "Recall:  0.92164\n",
      "F1-Score:  0.9216357087714123\n",
      "Cost:  130\n",
      "Kernel:  linear\n",
      "Training Data:\n",
      "{'0': {'precision': 0.8671271840715157, 'recall': 0.8474980142970612, 'f1-score': 0.8572002410122515, 'support': 5036}, '1': {'precision': 0.848759354076408, 'recall': 0.8682514101531024, 'f1-score': 0.8583947420832503, 'support': 4964}, 'accuracy': 0.8578, 'macro avg': {'precision': 0.8579432690739619, 'recall': 0.8578747122250818, 'f1-score': 0.8577974915477509, 'support': 10000}, 'weighted avg': {'precision': 0.8580093932619443, 'recall': 0.8578, 'f1-score': 0.8577931913438953, 'support': 10000}}\n",
      "Precision:  0.8580093932619443\n",
      "Recall:  0.8578\n",
      "F1-Score:  0.8577931913438953\n",
      "Test Data:\n",
      "{'0': {'precision': 0.9282696994313566, 'recall': 0.91416, 'f1-score': 0.9211608222490931, 'support': 12500}, '1': {'precision': 0.9154452324665091, 'recall': 0.92936, 'f1-score': 0.9223501389440254, 'support': 12500}, 'accuracy': 0.92176, 'macro avg': {'precision': 0.9218574659489329, 'recall': 0.9217599999999999, 'f1-score': 0.9217554805965593, 'support': 25000}, 'weighted avg': {'precision': 0.9218574659489328, 'recall': 0.92176, 'f1-score': 0.9217554805965593, 'support': 25000}}\n",
      "Precision:  0.9218574659489328\n",
      "Recall:  0.92176\n",
      "F1-Score:  0.9217554805965593\n",
      "Cost:  140\n",
      "Kernel:  linear\n",
      "Training Data:\n",
      "{'0': {'precision': 0.8662329741817443, 'recall': 0.8461080222398729, 'f1-score': 0.85605223505776, 'support': 5036}, '1': {'precision': 0.8474709702814407, 'recall': 0.8674456083803385, 'f1-score': 0.8573419611747138, 'support': 4964}, 'accuracy': 0.8567, 'macro avg': {'precision': 0.8568519722315925, 'recall': 0.8567768153101056, 'f1-score': 0.856697098116237, 'support': 10000}, 'weighted avg': {'precision': 0.8569195154456336, 'recall': 0.8567, 'f1-score': 0.8566924551022159, 'support': 10000}}\n",
      "Precision:  0.8569195154456336\n",
      "Recall:  0.8567\n",
      "F1-Score:  0.8566924551022159\n",
      "Test Data:\n",
      "{'0': {'precision': 0.9287048315062931, 'recall': 0.91496, 'f1-score': 0.9217811807374572, 'support': 12500}, '1': {'precision': 0.9162002364998029, 'recall': 0.92976, 'f1-score': 0.9229303156640857, 'support': 12500}, 'accuracy': 0.92236, 'macro avg': {'precision': 0.922452534003048, 'recall': 0.9223600000000001, 'f1-score': 0.9223557482007714, 'support': 25000}, 'weighted avg': {'precision': 0.9224525340030479, 'recall': 0.92236, 'f1-score': 0.9223557482007714, 'support': 25000}}\n",
      "Precision:  0.9224525340030479\n",
      "Recall:  0.92236\n",
      "F1-Score:  0.9223557482007714\n",
      "Cost:  150\n",
      "Kernel:  linear\n",
      "Training Data:\n",
      "{'0': {'precision': 0.8660024400162668, 'recall': 0.8457108816521048, 'f1-score': 0.855736387381957, 'support': 5036}, '1': {'precision': 0.8471074380165289, 'recall': 0.8672441579371475, 'f1-score': 0.8570575353374477, 'support': 4964}, 'accuracy': 0.8564, 'macro avg': {'precision': 0.8565549390163978, 'recall': 0.8564775197946262, 'f1-score': 0.8563969613597023, 'support': 10000}, 'weighted avg': {'precision': 0.8566229610235969, 'recall': 0.8564, 'f1-score': 0.8563922052270625, 'support': 10000}}\n",
      "Precision:  0.8566229610235969\n",
      "Recall:  0.8564\n",
      "F1-Score:  0.8563922052270625\n",
      "Test Data:\n",
      "{'0': {'precision': 0.9293200097489642, 'recall': 0.91512, 'f1-score': 0.9221653432222178, 'support': 12500}, '1': {'precision': 0.916397447009692, 'recall': 0.9304, 'f1-score': 0.9233456393156286, 'support': 12500}, 'accuracy': 0.92276, 'macro avg': {'precision': 0.9228587283793281, 'recall': 0.92276, 'f1-score': 0.9227554912689232, 'support': 25000}, 'weighted avg': {'precision': 0.9228587283793281, 'recall': 0.92276, 'f1-score': 0.9227554912689232, 'support': 25000}}\n",
      "Precision:  0.9228587283793281\n",
      "Recall:  0.92276\n",
      "F1-Score:  0.9227554912689232\n"
     ]
    }
   ],
   "source": [
    "data_test = pd.read_csv(\"/Users/varunnegandhi/Documents/Data Mining/dataset.csv\", encoding='latin1')\n",
    "data_test['SentimentText'] = data_test['SentimentText'].str.lower()\n",
    "for i in range(len(data_test)):\n",
    "    data_test['SentimentText'][i] = re.sub('<.*?>', '', data_test['SentimentText'][i])\n",
    "    data_test['SentimentText'][i] = ''.join(ch for ch in data_test['SentimentText'][i] if ch not in punctuation)\n",
    "data_test.head()\n",
    "for n in range(110, 151, 10):\n",
    "    print(\"Cost: \",n)\n",
    "    print(\"Kernel: \",'linear')\n",
    "    classifier_linear = svm.SVC(kernel='linear',C=n)\n",
    "    classifier_linear.fit(train_vectors, y_train)\n",
    "    prediction_linear = classifier_linear.predict(test_vectors)\n",
    "    report = classification_report(y_test, prediction_linear, output_dict=True)\n",
    "    print(\"Training Data:\")\n",
    "    print(report)\n",
    "    print(\"Precision: \",report['weighted avg']['precision'])\n",
    "    print(\"Recall: \",report['weighted avg']['recall'])\n",
    "    print(\"F1-Score: \",report['weighted avg']['f1-score'])\n",
    "    data_test_x = data_test['SentimentText']\n",
    "    data_test_y = data_test['Sentiment']\n",
    "    test1_vector = cv.transform(data_test_x)\n",
    "    prediction_linear_test = classifier_linear.predict(test1_vector)\n",
    "    report = classification_report(data_test_y, prediction_linear_test, output_dict=True)\n",
    "    print(\"Test Data:\")\n",
    "    print(report)\n",
    "    print(\"Precision: \",report['weighted avg']['precision'])\n",
    "    print(\"Recall: \",report['weighted avg']['recall'])\n",
    "    print(\"F1-Score: \",report['weighted avg']['f1-score'])"
   ]
  },
  {
   "cell_type": "code",
   "execution_count": 10,
   "metadata": {},
   "outputs": [
    {
     "name": "stdout",
     "output_type": "stream",
     "text": [
      "Cost:  110\n",
      "Kernel:  rbf\n"
     ]
    },
    {
     "name": "stderr",
     "output_type": "stream",
     "text": [
      "/Users/varunnegandhi/anaconda3/lib/python3.7/site-packages/sklearn/svm/base.py:193: FutureWarning: The default value of gamma will change from 'auto' to 'scale' in version 0.22 to account better for unscaled features. Set gamma explicitly to 'auto' or 'scale' to avoid this warning.\n",
      "  \"avoid this warning.\", FutureWarning)\n"
     ]
    },
    {
     "name": "stdout",
     "output_type": "stream",
     "text": [
      "Training Data:\n",
      "{'0': {'precision': 0.8970745248772155, 'recall': 0.8341938046068308, 'f1-score': 0.8644922317110815, 'support': 5036}, '1': {'precision': 0.842956554447997, 'recall': 0.90290088638195, 'f1-score': 0.8718996206594689, 'support': 4964}, 'accuracy': 0.8683, 'macro avg': {'precision': 0.8700155396626063, 'recall': 0.8685473454943904, 'f1-score': 0.8681959261852752, 'support': 10000}, 'weighted avg': {'precision': 0.8702103643561513, 'recall': 0.8683, 'f1-score': 0.8681692595850611, 'support': 10000}}\n",
      "Precision:  0.8702103643561513\n",
      "Recall:  0.8683\n",
      "F1-Score:  0.8681692595850611\n",
      "Test Data:\n",
      "{'0': {'precision': 0.9115186042371373, 'recall': 0.8192, 'f1-score': 0.862897109631752, 'support': 12500}, '1': {'precision': 0.8358274008426558, 'recall': 0.92048, 'f1-score': 0.8761136069443387, 'support': 12500}, 'accuracy': 0.86984, 'macro avg': {'precision': 0.8736730025398965, 'recall': 0.86984, 'f1-score': 0.8695053582880454, 'support': 25000}, 'weighted avg': {'precision': 0.8736730025398965, 'recall': 0.86984, 'f1-score': 0.8695053582880454, 'support': 25000}}\n",
      "Precision:  0.8736730025398965\n",
      "Recall:  0.86984\n",
      "F1-Score:  0.8695053582880454\n",
      "Cost:  110\n",
      "Kernel:  sigmoid\n"
     ]
    },
    {
     "name": "stderr",
     "output_type": "stream",
     "text": [
      "/Users/varunnegandhi/anaconda3/lib/python3.7/site-packages/sklearn/svm/base.py:193: FutureWarning: The default value of gamma will change from 'auto' to 'scale' in version 0.22 to account better for unscaled features. Set gamma explicitly to 'auto' or 'scale' to avoid this warning.\n",
      "  \"avoid this warning.\", FutureWarning)\n"
     ]
    },
    {
     "name": "stdout",
     "output_type": "stream",
     "text": [
      "Training Data:\n",
      "{'0': {'precision': 0.8950548221078541, 'recall': 0.7942811755361397, 'f1-score': 0.8416622830089426, 'support': 5036}, '1': {'precision': 0.8126920990779244, 'recall': 0.9055197421434327, 'f1-score': 0.8565983801810385, 'support': 4964}, 'accuracy': 0.8495, 'macro avg': {'precision': 0.8538734605928893, 'recall': 0.8499004588397863, 'f1-score': 0.8491303315949905, 'support': 10000}, 'weighted avg': {'precision': 0.854169966395797, 'recall': 0.8495, 'f1-score': 0.849076561645171, 'support': 10000}}\n",
      "Precision:  0.854169966395797\n",
      "Recall:  0.8495\n",
      "F1-Score:  0.849076561645171\n",
      "Test Data:\n",
      "{'0': {'precision': 0.9113757854262403, 'recall': 0.77744, 'f1-score': 0.8390968354703622, 'support': 12500}, '1': {'precision': 0.8059566157494594, 'recall': 0.9244, 'f1-score': 0.8611245668293773, 'support': 12500}, 'accuracy': 0.85092, 'macro avg': {'precision': 0.8586662005878498, 'recall': 0.85092, 'f1-score': 0.8501107011498698, 'support': 25000}, 'weighted avg': {'precision': 0.8586662005878499, 'recall': 0.85092, 'f1-score': 0.8501107011498698, 'support': 25000}}\n",
      "Precision:  0.8586662005878499\n",
      "Recall:  0.85092\n",
      "F1-Score:  0.8501107011498698\n",
      "Cost:  120\n",
      "Kernel:  rbf\n"
     ]
    },
    {
     "name": "stderr",
     "output_type": "stream",
     "text": [
      "/Users/varunnegandhi/anaconda3/lib/python3.7/site-packages/sklearn/svm/base.py:193: FutureWarning: The default value of gamma will change from 'auto' to 'scale' in version 0.22 to account better for unscaled features. Set gamma explicitly to 'auto' or 'scale' to avoid this warning.\n",
      "  \"avoid this warning.\", FutureWarning)\n"
     ]
    },
    {
     "name": "stdout",
     "output_type": "stream",
     "text": [
      "Training Data:\n",
      "{'0': {'precision': 0.897933091838909, 'recall': 0.8367752184273233, 'f1-score': 0.8662760818172475, 'support': 5036}, '1': {'precision': 0.8451102317693612, 'recall': 0.9035052377115229, 'f1-score': 0.8733326842566449, 'support': 4964}, 'accuracy': 0.8699, 'macro avg': {'precision': 0.871521661804135, 'recall': 0.870140228069423, 'f1-score': 0.8698043830369462, 'support': 10000}, 'weighted avg': {'precision': 0.8717118241003855, 'recall': 0.8699, 'f1-score': 0.8697789792681644, 'support': 10000}}\n",
      "Precision:  0.8717118241003855\n",
      "Recall:  0.8699\n",
      "F1-Score:  0.8697789792681644\n",
      "Test Data:\n",
      "{'0': {'precision': 0.9125877231944568, 'recall': 0.82184, 'f1-score': 0.8648398366797154, 'support': 12500}, '1': {'precision': 0.8379538674234156, 'recall': 0.92128, 'f1-score': 0.8776435620927486, 'support': 12500}, 'accuracy': 0.87156, 'macro avg': {'precision': 0.8752707953089363, 'recall': 0.87156, 'f1-score': 0.871241699386232, 'support': 25000}, 'weighted avg': {'precision': 0.8752707953089363, 'recall': 0.87156, 'f1-score': 0.8712416993862321, 'support': 25000}}\n",
      "Precision:  0.8752707953089363\n",
      "Recall:  0.87156\n",
      "F1-Score:  0.8712416993862321\n",
      "Cost:  120\n",
      "Kernel:  sigmoid\n"
     ]
    },
    {
     "name": "stderr",
     "output_type": "stream",
     "text": [
      "/Users/varunnegandhi/anaconda3/lib/python3.7/site-packages/sklearn/svm/base.py:193: FutureWarning: The default value of gamma will change from 'auto' to 'scale' in version 0.22 to account better for unscaled features. Set gamma explicitly to 'auto' or 'scale' to avoid this warning.\n",
      "  \"avoid this warning.\", FutureWarning)\n"
     ]
    },
    {
     "name": "stdout",
     "output_type": "stream",
     "text": [
      "Training Data:\n",
      "{'0': {'precision': 0.8965747330960854, 'recall': 0.8004368546465449, 'f1-score': 0.8457826269408308, 'support': 5036}, '1': {'precision': 0.817405523255814, 'recall': 0.9063255439161966, 'f1-score': 0.8595720290408865, 'support': 4964}, 'accuracy': 0.853, 'macro avg': {'precision': 0.8569901281759497, 'recall': 0.8533811992813707, 'f1-score': 0.8526773279908586, 'support': 10000}, 'weighted avg': {'precision': 0.8572751373313746, 'recall': 0.853, 'f1-score': 0.8526276861432983, 'support': 10000}}\n",
      "Precision:  0.8572751373313746\n",
      "Recall:  0.853\n",
      "F1-Score:  0.8526276861432983\n",
      "Test Data:\n",
      "{'0': {'precision': 0.9118057493720346, 'recall': 0.78408, 'f1-score': 0.8431330379801281, 'support': 12500}, '1': {'precision': 0.8106097817697003, 'recall': 0.92416, 'f1-score': 0.863668647901013, 'support': 12500}, 'accuracy': 0.85412, 'macro avg': {'precision': 0.8612077655708674, 'recall': 0.85412, 'f1-score': 0.8534008429405706, 'support': 25000}, 'weighted avg': {'precision': 0.8612077655708675, 'recall': 0.85412, 'f1-score': 0.8534008429405704, 'support': 25000}}\n",
      "Precision:  0.8612077655708675\n",
      "Recall:  0.85412\n",
      "F1-Score:  0.8534008429405704\n",
      "Cost:  130\n",
      "Kernel:  rbf\n"
     ]
    },
    {
     "name": "stderr",
     "output_type": "stream",
     "text": [
      "/Users/varunnegandhi/anaconda3/lib/python3.7/site-packages/sklearn/svm/base.py:193: FutureWarning: The default value of gamma will change from 'auto' to 'scale' in version 0.22 to account better for unscaled features. Set gamma explicitly to 'auto' or 'scale' to avoid this warning.\n",
      "  \"avoid this warning.\", FutureWarning)\n"
     ]
    },
    {
     "name": "stdout",
     "output_type": "stream",
     "text": [
      "Training Data:\n",
      "{'0': {'precision': 0.8975993201614616, 'recall': 0.8389594916600477, 'f1-score': 0.8672893359334907, 'support': 5036}, '1': {'precision': 0.846778764405819, 'recall': 0.90290088638195, 'f1-score': 0.8739397484644633, 'support': 4964}, 'accuracy': 0.8707, 'macro avg': {'precision': 0.8721890422836402, 'recall': 0.8709301890209988, 'f1-score': 0.870614542198977, 'support': 10000}, 'weighted avg': {'precision': 0.8723719962843607, 'recall': 0.8707, 'f1-score': 0.8705906007138655, 'support': 10000}}\n",
      "Precision:  0.8723719962843607\n",
      "Recall:  0.8707\n",
      "F1-Score:  0.8705906007138655\n",
      "Test Data:\n",
      "{'0': {'precision': 0.9116867043847242, 'recall': 0.82504, 'f1-score': 0.8662019150008399, 'support': 12500}, '1': {'precision': 0.8402250146113384, 'recall': 0.92008, 'f1-score': 0.8783412249885444, 'support': 12500}, 'accuracy': 0.87256, 'macro avg': {'precision': 0.8759558594980312, 'recall': 0.87256, 'f1-score': 0.8722715699946921, 'support': 25000}, 'weighted avg': {'precision': 0.8759558594980312, 'recall': 0.87256, 'f1-score': 0.8722715699946921, 'support': 25000}}\n",
      "Precision:  0.8759558594980312\n",
      "Recall:  0.87256\n",
      "F1-Score:  0.8722715699946921\n",
      "Cost:  130\n",
      "Kernel:  sigmoid\n"
     ]
    },
    {
     "name": "stderr",
     "output_type": "stream",
     "text": [
      "/Users/varunnegandhi/anaconda3/lib/python3.7/site-packages/sklearn/svm/base.py:193: FutureWarning: The default value of gamma will change from 'auto' to 'scale' in version 0.22 to account better for unscaled features. Set gamma explicitly to 'auto' or 'scale' to avoid this warning.\n",
      "  \"avoid this warning.\", FutureWarning)\n"
     ]
    },
    {
     "name": "stdout",
     "output_type": "stream",
     "text": [
      "Training Data:\n",
      "{'0': {'precision': 0.8966659306690219, 'recall': 0.8063939634630659, 'f1-score': 0.8491374803972818, 'support': 5036}, '1': {'precision': 0.8217876073843904, 'recall': 0.9057211925866236, 'f1-score': 0.8617153809295638, 'support': 4964}, 'accuracy': 0.8557, 'macro avg': {'precision': 0.8592267690267061, 'recall': 0.8560575780248447, 'f1-score': 0.8554264306634227, 'support': 10000}, 'weighted avg': {'precision': 0.8594963309905308, 'recall': 0.8557, 'f1-score': 0.8553811502215067, 'support': 10000}}\n",
      "Precision:  0.8594963309905308\n",
      "Recall:  0.8557\n",
      "F1-Score:  0.8553811502215067\n",
      "Test Data:\n",
      "{'0': {'precision': 0.9111111111111111, 'recall': 0.79048, 'f1-score': 0.846519597344185, 'support': 12500}, '1': {'precision': 0.8149770399152243, 'recall': 0.92288, 'f1-score': 0.8655786906771713, 'support': 12500}, 'accuracy': 0.85668, 'macro avg': {'precision': 0.8630440755131676, 'recall': 0.85668, 'f1-score': 0.8560491440106781, 'support': 25000}, 'weighted avg': {'precision': 0.8630440755131678, 'recall': 0.85668, 'f1-score': 0.8560491440106781, 'support': 25000}}\n",
      "Precision:  0.8630440755131678\n",
      "Recall:  0.85668\n",
      "F1-Score:  0.8560491440106781\n",
      "Cost:  140\n",
      "Kernel:  rbf\n"
     ]
    },
    {
     "name": "stderr",
     "output_type": "stream",
     "text": [
      "/Users/varunnegandhi/anaconda3/lib/python3.7/site-packages/sklearn/svm/base.py:193: FutureWarning: The default value of gamma will change from 'auto' to 'scale' in version 0.22 to account better for unscaled features. Set gamma explicitly to 'auto' or 'scale' to avoid this warning.\n",
      "  \"avoid this warning.\", FutureWarning)\n"
     ]
    },
    {
     "name": "stdout",
     "output_type": "stream",
     "text": [
      "Training Data:\n",
      "{'0': {'precision': 0.8973327688399662, 'recall': 0.8417394757744241, 'f1-score': 0.8686475409836065, 'support': 5036}, '1': {'precision': 0.8489385898407885, 'recall': 0.9022965350523772, 'f1-score': 0.8748046875, 'support': 4964}, 'accuracy': 0.8718, 'macro avg': {'precision': 0.8731356793403773, 'recall': 0.8720180054134006, 'f1-score': 0.8717261142418032, 'support': 10000}, 'weighted avg': {'precision': 0.8733098983847744, 'recall': 0.8718, 'f1-score': 0.8717039485143443, 'support': 10000}}\n",
      "Precision:  0.8733098983847744\n",
      "Recall:  0.8718\n",
      "F1-Score:  0.8717039485143443\n",
      "Test Data:\n",
      "{'0': {'precision': 0.9120028159098909, 'recall': 0.82912, 'f1-score': 0.8685886691250418, 'support': 12500}, '1': {'precision': 0.8433558228219419, 'recall': 0.92, 'f1-score': 0.8800122436486073, 'support': 12500}, 'accuracy': 0.87456, 'macro avg': {'precision': 0.8776793193659164, 'recall': 0.87456, 'f1-score': 0.8743004563868246, 'support': 25000}, 'weighted avg': {'precision': 0.8776793193659163, 'recall': 0.87456, 'f1-score': 0.8743004563868245, 'support': 25000}}\n",
      "Precision:  0.8776793193659163\n",
      "Recall:  0.87456\n",
      "F1-Score:  0.8743004563868245\n",
      "Cost:  140\n",
      "Kernel:  sigmoid\n"
     ]
    },
    {
     "name": "stderr",
     "output_type": "stream",
     "text": [
      "/Users/varunnegandhi/anaconda3/lib/python3.7/site-packages/sklearn/svm/base.py:193: FutureWarning: The default value of gamma will change from 'auto' to 'scale' in version 0.22 to account better for unscaled features. Set gamma explicitly to 'auto' or 'scale' to avoid this warning.\n",
      "  \"avoid this warning.\", FutureWarning)\n"
     ]
    },
    {
     "name": "stdout",
     "output_type": "stream",
     "text": [
      "Training Data:\n",
      "{'0': {'precision': 0.8956597983340641, 'recall': 0.8113582208101668, 'f1-score': 0.8514273807043136, 'support': 5036}, '1': {'precision': 0.8253034203751379, 'recall': 0.9041095890410958, 'f1-score': 0.8629109786579504, 'support': 4964}, 'accuracy': 0.8574, 'macro avg': {'precision': 0.860481609354601, 'recall': 0.8577339049256314, 'f1-score': 0.857169179681132, 'support': 10000}, 'weighted avg': {'precision': 0.8607348923152531, 'recall': 0.8574, 'f1-score': 0.8571278387284991, 'support': 10000}}\n",
      "Precision:  0.8607348923152531\n",
      "Recall:  0.8574\n",
      "F1-Score:  0.8571278387284991\n",
      "Test Data:\n",
      "{'0': {'precision': 0.9111845123405817, 'recall': 0.79448, 'f1-score': 0.8488396940040174, 'support': 12500}, '1': {'precision': 0.8178143394085526, 'recall': 0.92256, 'f1-score': 0.8670350738694035, 'support': 12500}, 'accuracy': 0.85852, 'macro avg': {'precision': 0.8644994258745672, 'recall': 0.85852, 'f1-score': 0.8579373839367104, 'support': 25000}, 'weighted avg': {'precision': 0.8644994258745673, 'recall': 0.85852, 'f1-score': 0.8579373839367104, 'support': 25000}}\n",
      "Precision:  0.8644994258745673\n",
      "Recall:  0.85852\n",
      "F1-Score:  0.8579373839367104\n",
      "Cost:  150\n",
      "Kernel:  rbf\n"
     ]
    },
    {
     "name": "stderr",
     "output_type": "stream",
     "text": [
      "/Users/varunnegandhi/anaconda3/lib/python3.7/site-packages/sklearn/svm/base.py:193: FutureWarning: The default value of gamma will change from 'auto' to 'scale' in version 0.22 to account better for unscaled features. Set gamma explicitly to 'auto' or 'scale' to avoid this warning.\n",
      "  \"avoid this warning.\", FutureWarning)\n"
     ]
    },
    {
     "name": "stdout",
     "output_type": "stream",
     "text": [
      "Training Data:\n",
      "{'0': {'precision': 0.8972515856236787, 'recall': 0.8427323272438443, 'f1-score': 0.8691378251075158, 'support': 5036}, '1': {'precision': 0.8497153700189753, 'recall': 0.9020950846091862, 'f1-score': 0.8751221418800078, 'support': 4964}, 'accuracy': 0.8722, 'macro avg': {'precision': 0.873483477821327, 'recall': 0.8724137059265152, 'f1-score': 0.8721299834937618, 'support': 10000}, 'weighted avg': {'precision': 0.8736546081975041, 'recall': 0.8722, 'f1-score': 0.8721084399533807, 'support': 10000}}\n",
      "Precision:  0.8736546081975041\n",
      "Recall:  0.8722\n",
      "F1-Score:  0.8721084399533807\n",
      "Test Data:\n",
      "{'0': {'precision': 0.9118575688475706, 'recall': 0.83176, 'f1-score': 0.869969040247678, 'support': 12500}, '1': {'precision': 0.8453449036623033, 'recall': 0.9196, 'f1-score': 0.8809104145911565, 'support': 12500}, 'accuracy': 0.87568, 'macro avg': {'precision': 0.8786012362549369, 'recall': 0.87568, 'f1-score': 0.8754397274194172, 'support': 25000}, 'weighted avg': {'precision': 0.8786012362549369, 'recall': 0.87568, 'f1-score': 0.8754397274194172, 'support': 25000}}\n",
      "Precision:  0.8786012362549369\n",
      "Recall:  0.87568\n",
      "F1-Score:  0.8754397274194172\n",
      "Cost:  150\n",
      "Kernel:  sigmoid\n"
     ]
    },
    {
     "name": "stderr",
     "output_type": "stream",
     "text": [
      "/Users/varunnegandhi/anaconda3/lib/python3.7/site-packages/sklearn/svm/base.py:193: FutureWarning: The default value of gamma will change from 'auto' to 'scale' in version 0.22 to account better for unscaled features. Set gamma explicitly to 'auto' or 'scale' to avoid this warning.\n",
      "  \"avoid this warning.\", FutureWarning)\n"
     ]
    },
    {
     "name": "stdout",
     "output_type": "stream",
     "text": [
      "Training Data:\n",
      "{'0': {'precision': 0.8949314770502501, 'recall': 0.8169181890389198, 'f1-score': 0.8541472023253399, 'support': 5036}, '1': {'precision': 0.8293540625578383, 'recall': 0.9026994359387591, 'f1-score': 0.8644738111314748, 'support': 4964}, 'accuracy': 0.8595, 'macro avg': {'precision': 0.8621427698040443, 'recall': 0.8598088124888394, 'f1-score': 0.8593105067284074, 'support': 10000}, 'weighted avg': {'precision': 0.8623788484962169, 'recall': 0.8595, 'f1-score': 0.8592733309367053, 'support': 10000}}\n",
      "Precision:  0.8623788484962169\n",
      "Recall:  0.8595\n",
      "F1-Score:  0.8592733309367053\n",
      "Test Data:\n",
      "{'0': {'precision': 0.9114559561843907, 'recall': 0.7988, 'f1-score': 0.8514176081858879, 'support': 12500}, '1': {'precision': 0.8209327162691349, 'recall': 0.9224, 'f1-score': 0.8687135053682425, 'support': 12500}, 'accuracy': 0.8606, 'macro avg': {'precision': 0.8661943362267628, 'recall': 0.8606, 'f1-score': 0.8600655567770652, 'support': 25000}, 'weighted avg': {'precision': 0.8661943362267627, 'recall': 0.8606, 'f1-score': 0.8600655567770652, 'support': 25000}}\n",
      "Precision:  0.8661943362267627\n",
      "Recall:  0.8606\n",
      "F1-Score:  0.8600655567770652\n"
     ]
    }
   ],
   "source": [
    "for n in range(110, 151, 10):\n",
    "    for k in ['rbf','sigmoid']:        \n",
    "        print(\"Cost: \",n)\n",
    "        print(\"Kernel: \",k)\n",
    "        classifier_linear = svm.SVC(kernel=k,C=n)\n",
    "        classifier_linear.fit(train_vectors, y_train)\n",
    "        prediction_linear = classifier_linear.predict(test_vectors)\n",
    "        report = classification_report(y_test, prediction_linear, output_dict=True)\n",
    "        print(\"Training Data:\")\n",
    "        print(report)\n",
    "        print(\"Precision: \",report['weighted avg']['precision'])\n",
    "        print(\"Recall: \",report['weighted avg']['recall'])\n",
    "        print(\"F1-Score: \",report['weighted avg']['f1-score'])\n",
    "        data_test_x = data_test['SentimentText']\n",
    "        data_test_y = data_test['Sentiment']\n",
    "        test1_vector = cv.transform(data_test_x)\n",
    "        prediction_linear_test = classifier_linear.predict(test1_vector)\n",
    "        report = classification_report(data_test_y, prediction_linear_test, output_dict=True)\n",
    "        print(\"Test Data:\")\n",
    "        print(report)\n",
    "        print(\"Precision: \",report['weighted avg']['precision'])\n",
    "        print(\"Recall: \",report['weighted avg']['recall'])\n",
    "        print(\"F1-Score: \",report['weighted avg']['f1-score'])"
   ]
  },
  {
   "cell_type": "code",
   "execution_count": null,
   "metadata": {},
   "outputs": [],
   "source": []
  }
 ],
 "metadata": {
  "kernelspec": {
   "display_name": "Python 3",
   "language": "python",
   "name": "python3"
  },
  "language_info": {
   "codemirror_mode": {
    "name": "ipython",
    "version": 3
   },
   "file_extension": ".py",
   "mimetype": "text/x-python",
   "name": "python",
   "nbconvert_exporter": "python",
   "pygments_lexer": "ipython3",
   "version": "3.7.1"
  }
 },
 "nbformat": 4,
 "nbformat_minor": 4
}
