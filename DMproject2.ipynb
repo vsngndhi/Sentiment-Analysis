{
 "cells": [
  {
   "cell_type": "code",
   "execution_count": 21,
   "metadata": {},
   "outputs": [
    {
     "data": {
      "text/html": [
       "<div>\n",
       "<style scoped>\n",
       "    .dataframe tbody tr th:only-of-type {\n",
       "        vertical-align: middle;\n",
       "    }\n",
       "\n",
       "    .dataframe tbody tr th {\n",
       "        vertical-align: top;\n",
       "    }\n",
       "\n",
       "    .dataframe thead th {\n",
       "        text-align: right;\n",
       "    }\n",
       "</style>\n",
       "<table border=\"1\" class=\"dataframe\">\n",
       "  <thead>\n",
       "    <tr style=\"text-align: right;\">\n",
       "      <th></th>\n",
       "      <th>SentimentText</th>\n",
       "      <th>Sentiment</th>\n",
       "    </tr>\n",
       "  </thead>\n",
       "  <tbody>\n",
       "    <tr>\n",
       "      <th>0</th>\n",
       "      <td>one of the other reviewers has mentioned that ...</td>\n",
       "      <td>positive</td>\n",
       "    </tr>\n",
       "    <tr>\n",
       "      <th>1</th>\n",
       "      <td>a wonderful little production. &lt;br /&gt;&lt;br /&gt;the...</td>\n",
       "      <td>positive</td>\n",
       "    </tr>\n",
       "    <tr>\n",
       "      <th>2</th>\n",
       "      <td>i thought this was a wonderful way to spend ti...</td>\n",
       "      <td>positive</td>\n",
       "    </tr>\n",
       "    <tr>\n",
       "      <th>3</th>\n",
       "      <td>basically there's a family where a little boy ...</td>\n",
       "      <td>negative</td>\n",
       "    </tr>\n",
       "    <tr>\n",
       "      <th>4</th>\n",
       "      <td>petter mattei's \"love in the time of money\" is...</td>\n",
       "      <td>positive</td>\n",
       "    </tr>\n",
       "  </tbody>\n",
       "</table>\n",
       "</div>"
      ],
      "text/plain": [
       "                                       SentimentText Sentiment\n",
       "0  one of the other reviewers has mentioned that ...  positive\n",
       "1  a wonderful little production. <br /><br />the...  positive\n",
       "2  i thought this was a wonderful way to spend ti...  positive\n",
       "3  basically there's a family where a little boy ...  negative\n",
       "4  petter mattei's \"love in the time of money\" is...  positive"
      ]
     },
     "execution_count": 21,
     "metadata": {},
     "output_type": "execute_result"
    }
   ],
   "source": [
    "import pandas as pd\n",
    "import numpy as np\n",
    "from string import punctuation\n",
    "from sklearn import svm\n",
    "from sklearn.metrics import classification_report\n",
    "from sklearn.feature_extraction.text import TfidfVectorizer\n",
    "from sklearn.model_selection import train_test_split\n",
    "import re\n",
    "data = pd.read_csv(\"/Users/varunnegandhi/Documents/Data Mining/IMDB Dataset.csv\", encoding='latin1')\n",
    "data['SentimentText'] = data['SentimentText'].str.lower()\n",
    "data.head()"
   ]
  },
  {
   "cell_type": "code",
   "execution_count": 22,
   "metadata": {},
   "outputs": [
    {
     "data": {
      "text/html": [
       "<div>\n",
       "<style scoped>\n",
       "    .dataframe tbody tr th:only-of-type {\n",
       "        vertical-align: middle;\n",
       "    }\n",
       "\n",
       "    .dataframe tbody tr th {\n",
       "        vertical-align: top;\n",
       "    }\n",
       "\n",
       "    .dataframe thead th {\n",
       "        text-align: right;\n",
       "    }\n",
       "</style>\n",
       "<table border=\"1\" class=\"dataframe\">\n",
       "  <thead>\n",
       "    <tr style=\"text-align: right;\">\n",
       "      <th></th>\n",
       "      <th>SentimentText</th>\n",
       "      <th>Sentiment</th>\n",
       "    </tr>\n",
       "  </thead>\n",
       "  <tbody>\n",
       "    <tr>\n",
       "      <th>0</th>\n",
       "      <td>one of the other reviewers has mentioned that ...</td>\n",
       "      <td>1</td>\n",
       "    </tr>\n",
       "    <tr>\n",
       "      <th>1</th>\n",
       "      <td>a wonderful little production the filming tech...</td>\n",
       "      <td>1</td>\n",
       "    </tr>\n",
       "    <tr>\n",
       "      <th>2</th>\n",
       "      <td>i thought this was a wonderful way to spend ti...</td>\n",
       "      <td>1</td>\n",
       "    </tr>\n",
       "    <tr>\n",
       "      <th>3</th>\n",
       "      <td>basically theres a family where a little boy j...</td>\n",
       "      <td>0</td>\n",
       "    </tr>\n",
       "    <tr>\n",
       "      <th>4</th>\n",
       "      <td>petter matteis love in the time of money is a ...</td>\n",
       "      <td>1</td>\n",
       "    </tr>\n",
       "  </tbody>\n",
       "</table>\n",
       "</div>"
      ],
      "text/plain": [
       "                                       SentimentText  Sentiment\n",
       "0  one of the other reviewers has mentioned that ...          1\n",
       "1  a wonderful little production the filming tech...          1\n",
       "2  i thought this was a wonderful way to spend ti...          1\n",
       "3  basically theres a family where a little boy j...          0\n",
       "4  petter matteis love in the time of money is a ...          1"
      ]
     },
     "execution_count": 22,
     "metadata": {},
     "output_type": "execute_result"
    }
   ],
   "source": [
    "for i in range(len(data)):\n",
    "    data['SentimentText'][i] = re.sub('<.*?>', '', data['SentimentText'][i])\n",
    "    data['SentimentText'][i] = ''.join(ch for ch in data['SentimentText'][i] if ch not in punctuation)\n",
    "data['Sentiment'] = data['Sentiment'].map({'positive': 1, 'negative': 0})\n",
    "data.head()"
   ]
  },
  {
   "cell_type": "code",
   "execution_count": 25,
   "metadata": {},
   "outputs": [
    {
     "name": "stderr",
     "output_type": "stream",
     "text": [
      "/Users/varunnegandhi/anaconda3/lib/python3.7/site-packages/ipykernel_launcher.py:11: SettingWithCopyWarning: \n",
      "A value is trying to be set on a copy of a slice from a DataFrame\n",
      "\n",
      "See the caveats in the documentation: http://pandas.pydata.org/pandas-docs/stable/user_guide/indexing.html#returning-a-view-versus-a-copy\n",
      "  # This is added back by InteractiveShellApp.init_path()\n",
      "/Users/varunnegandhi/anaconda3/lib/python3.7/site-packages/ipykernel_launcher.py:12: SettingWithCopyWarning: \n",
      "A value is trying to be set on a copy of a slice from a DataFrame\n",
      "\n",
      "See the caveats in the documentation: http://pandas.pydata.org/pandas-docs/stable/user_guide/indexing.html#returning-a-view-versus-a-copy\n",
      "  if sys.path[0] == '':\n"
     ]
    },
    {
     "data": {
      "text/html": [
       "<div>\n",
       "<style scoped>\n",
       "    .dataframe tbody tr th:only-of-type {\n",
       "        vertical-align: middle;\n",
       "    }\n",
       "\n",
       "    .dataframe tbody tr th {\n",
       "        vertical-align: top;\n",
       "    }\n",
       "\n",
       "    .dataframe thead th {\n",
       "        text-align: right;\n",
       "    }\n",
       "</style>\n",
       "<table border=\"1\" class=\"dataframe\">\n",
       "  <thead>\n",
       "    <tr style=\"text-align: right;\">\n",
       "      <th></th>\n",
       "      <th>SentimentText</th>\n",
       "      <th>Sentiment</th>\n",
       "    </tr>\n",
       "  </thead>\n",
       "  <tbody>\n",
       "    <tr>\n",
       "      <th>0</th>\n",
       "      <td>first think another disney movie might good it...</td>\n",
       "      <td>1</td>\n",
       "    </tr>\n",
       "    <tr>\n",
       "      <th>1</th>\n",
       "      <td>put aside dr house repeat missed desperate hou...</td>\n",
       "      <td>0</td>\n",
       "    </tr>\n",
       "    <tr>\n",
       "      <th>2</th>\n",
       "      <td>big fan stephen kings work film made even grea...</td>\n",
       "      <td>1</td>\n",
       "    </tr>\n",
       "    <tr>\n",
       "      <th>3</th>\n",
       "      <td>watched horrid thing tv needless say one movie...</td>\n",
       "      <td>0</td>\n",
       "    </tr>\n",
       "    <tr>\n",
       "      <th>4</th>\n",
       "      <td>truly enjoyed film acting terrific plot jeff c...</td>\n",
       "      <td>1</td>\n",
       "    </tr>\n",
       "  </tbody>\n",
       "</table>\n",
       "</div>"
      ],
      "text/plain": [
       "                                       SentimentText  Sentiment\n",
       "0  first think another disney movie might good it...          1\n",
       "1  put aside dr house repeat missed desperate hou...          0\n",
       "2  big fan stephen kings work film made even grea...          1\n",
       "3  watched horrid thing tv needless say one movie...          0\n",
       "4  truly enjoyed film acting terrific plot jeff c...          1"
      ]
     },
     "execution_count": 25,
     "metadata": {},
     "output_type": "execute_result"
    }
   ],
   "source": [
    "data_x = data['SentimentText']\n",
    "data_y = data['Sentiment']\n",
    "cv = TfidfVectorizer(min_df=1, stop_words='english',max_features=5000)\n",
    "x_train, x_test, y_train, y_test = train_test_split(data_x, data_y, test_size=0.2, random_state=4)\n",
    "cv.fit(x_train)\n",
    "train_vectors = cv.transform(x_train)\n",
    "test_vectors = cv.transform(x_test)\n",
    "data_test = pd.read_csv(\"/Users/varunnegandhi/Documents/Data Mining/dataset.csv\", encoding='latin1')\n",
    "data_test['SentimentText'] = data_test['SentimentText'].str.lower()\n",
    "for i in range(len(data_test)):\n",
    "    data_test['SentimentText'][i] = re.sub('<.*?>', '', data_test['SentimentText'][i])\n",
    "    data_test['SentimentText'][i] = ''.join(ch for ch in data_test['SentimentText'][i] if ch not in punctuation)\n",
    "data_test.head()"
   ]
  },
  {
   "cell_type": "code",
   "execution_count": 27,
   "metadata": {},
   "outputs": [
    {
     "name": "stdout",
     "output_type": "stream",
     "text": [
      "Cost:  0.1\n",
      "Kernel:  linear\n",
      "Training Data:\n",
      "{'0': {'precision': 0.8999371990789198, 'recall': 0.8536536934074662, 'f1-score': 0.8761846530113114, 'support': 5036}, '1': {'precision': 0.8588933563086348, 'recall': 0.9037066881547139, 'f1-score': 0.8807303425935015, 'support': 4964}, 'accuracy': 0.8785, 'macro avg': {'precision': 0.8794152776937774, 'recall': 0.87868019078109, 'f1-score': 0.8784574978024065, 'support': 10000}, 'weighted avg': {'precision': 0.8795630355277503, 'recall': 0.8785, 'f1-score': 0.8784411333199107, 'support': 10000}}\n",
      "Precision:  0.8795630355277503\n",
      "Recall:  0.8785\n",
      "F1-Score:  0.8784411333199107\n",
      "Test Data:\n",
      "{'0': {'precision': 0.9139118457300276, 'recall': 0.84928, 'f1-score': 0.8804113451650357, 'support': 12500}, '1': {'precision': 0.8592349073520622, 'recall': 0.92, 'f1-score': 0.8885798176479679, 'support': 12500}, 'accuracy': 0.88464, 'macro avg': {'precision': 0.8865733765410448, 'recall': 0.8846400000000001, 'f1-score': 0.8844955814065019, 'support': 25000}, 'weighted avg': {'precision': 0.8865733765410448, 'recall': 0.88464, 'f1-score': 0.8844955814065019, 'support': 25000}}\n",
      "Precision:  0.8865733765410448\n",
      "Recall:  0.88464\n",
      "F1-Score:  0.8844955814065019\n",
      "Cost:  0.1\n",
      "Kernel:  poly\n"
     ]
    },
    {
     "name": "stderr",
     "output_type": "stream",
     "text": [
      "/Users/varunnegandhi/anaconda3/lib/python3.7/site-packages/sklearn/svm/base.py:193: FutureWarning: The default value of gamma will change from 'auto' to 'scale' in version 0.22 to account better for unscaled features. Set gamma explicitly to 'auto' or 'scale' to avoid this warning.\n",
      "  \"avoid this warning.\", FutureWarning)\n",
      "/Users/varunnegandhi/anaconda3/lib/python3.7/site-packages/sklearn/metrics/classification.py:1437: UndefinedMetricWarning: Precision and F-score are ill-defined and being set to 0.0 in labels with no predicted samples.\n",
      "  'precision', 'predicted', average, warn_for)\n"
     ]
    },
    {
     "name": "stdout",
     "output_type": "stream",
     "text": [
      "Training Data:\n",
      "{'0': {'precision': 0.0, 'recall': 0.0, 'f1-score': 0.0, 'support': 5036}, '1': {'precision': 0.4964, 'recall': 1.0, 'f1-score': 0.6634589681903235, 'support': 4964}, 'accuracy': 0.4964, 'macro avg': {'precision': 0.2482, 'recall': 0.5, 'f1-score': 0.33172948409516173, 'support': 10000}, 'weighted avg': {'precision': 0.24641296000000001, 'recall': 0.4964, 'f1-score': 0.3293410318096766, 'support': 10000}}\n",
      "Precision:  0.24641296000000001\n",
      "Recall:  0.4964\n",
      "F1-Score:  0.3293410318096766\n",
      "Test Data:\n",
      "{'0': {'precision': 0.0, 'recall': 0.0, 'f1-score': 0.0, 'support': 12500}, '1': {'precision': 0.5, 'recall': 1.0, 'f1-score': 0.6666666666666666, 'support': 12500}, 'accuracy': 0.5, 'macro avg': {'precision': 0.25, 'recall': 0.5, 'f1-score': 0.3333333333333333, 'support': 25000}, 'weighted avg': {'precision': 0.25, 'recall': 0.5, 'f1-score': 0.33333333333333326, 'support': 25000}}\n",
      "Precision:  0.25\n",
      "Recall:  0.5\n",
      "F1-Score:  0.33333333333333326\n",
      "Cost:  0.1\n",
      "Kernel:  rbf\n"
     ]
    },
    {
     "name": "stderr",
     "output_type": "stream",
     "text": [
      "/Users/varunnegandhi/anaconda3/lib/python3.7/site-packages/sklearn/svm/base.py:193: FutureWarning: The default value of gamma will change from 'auto' to 'scale' in version 0.22 to account better for unscaled features. Set gamma explicitly to 'auto' or 'scale' to avoid this warning.\n",
      "  \"avoid this warning.\", FutureWarning)\n",
      "/Users/varunnegandhi/anaconda3/lib/python3.7/site-packages/sklearn/metrics/classification.py:1437: UndefinedMetricWarning: Precision and F-score are ill-defined and being set to 0.0 in labels with no predicted samples.\n",
      "  'precision', 'predicted', average, warn_for)\n"
     ]
    },
    {
     "name": "stdout",
     "output_type": "stream",
     "text": [
      "Training Data:\n",
      "{'0': {'precision': 0.0, 'recall': 0.0, 'f1-score': 0.0, 'support': 5036}, '1': {'precision': 0.4964, 'recall': 1.0, 'f1-score': 0.6634589681903235, 'support': 4964}, 'accuracy': 0.4964, 'macro avg': {'precision': 0.2482, 'recall': 0.5, 'f1-score': 0.33172948409516173, 'support': 10000}, 'weighted avg': {'precision': 0.24641296000000001, 'recall': 0.4964, 'f1-score': 0.3293410318096766, 'support': 10000}}\n",
      "Precision:  0.24641296000000001\n",
      "Recall:  0.4964\n",
      "F1-Score:  0.3293410318096766\n",
      "Test Data:\n",
      "{'0': {'precision': 0.0, 'recall': 0.0, 'f1-score': 0.0, 'support': 12500}, '1': {'precision': 0.5, 'recall': 1.0, 'f1-score': 0.6666666666666666, 'support': 12500}, 'accuracy': 0.5, 'macro avg': {'precision': 0.25, 'recall': 0.5, 'f1-score': 0.3333333333333333, 'support': 25000}, 'weighted avg': {'precision': 0.25, 'recall': 0.5, 'f1-score': 0.33333333333333326, 'support': 25000}}\n",
      "Precision:  0.25\n",
      "Recall:  0.5\n",
      "F1-Score:  0.33333333333333326\n",
      "Cost:  0.1\n",
      "Kernel:  sigmoid\n"
     ]
    },
    {
     "name": "stderr",
     "output_type": "stream",
     "text": [
      "/Users/varunnegandhi/anaconda3/lib/python3.7/site-packages/sklearn/svm/base.py:193: FutureWarning: The default value of gamma will change from 'auto' to 'scale' in version 0.22 to account better for unscaled features. Set gamma explicitly to 'auto' or 'scale' to avoid this warning.\n",
      "  \"avoid this warning.\", FutureWarning)\n",
      "/Users/varunnegandhi/anaconda3/lib/python3.7/site-packages/sklearn/metrics/classification.py:1437: UndefinedMetricWarning: Precision and F-score are ill-defined and being set to 0.0 in labels with no predicted samples.\n",
      "  'precision', 'predicted', average, warn_for)\n"
     ]
    },
    {
     "name": "stdout",
     "output_type": "stream",
     "text": [
      "Training Data:\n",
      "{'0': {'precision': 0.0, 'recall': 0.0, 'f1-score': 0.0, 'support': 5036}, '1': {'precision': 0.4964, 'recall': 1.0, 'f1-score': 0.6634589681903235, 'support': 4964}, 'accuracy': 0.4964, 'macro avg': {'precision': 0.2482, 'recall': 0.5, 'f1-score': 0.33172948409516173, 'support': 10000}, 'weighted avg': {'precision': 0.24641296000000001, 'recall': 0.4964, 'f1-score': 0.3293410318096766, 'support': 10000}}\n",
      "Precision:  0.24641296000000001\n",
      "Recall:  0.4964\n",
      "F1-Score:  0.3293410318096766\n",
      "Test Data:\n",
      "{'0': {'precision': 0.0, 'recall': 0.0, 'f1-score': 0.0, 'support': 12500}, '1': {'precision': 0.5, 'recall': 1.0, 'f1-score': 0.6666666666666666, 'support': 12500}, 'accuracy': 0.5, 'macro avg': {'precision': 0.25, 'recall': 0.5, 'f1-score': 0.3333333333333333, 'support': 25000}, 'weighted avg': {'precision': 0.25, 'recall': 0.5, 'f1-score': 0.33333333333333326, 'support': 25000}}\n",
      "Precision:  0.25\n",
      "Recall:  0.5\n",
      "F1-Score:  0.33333333333333326\n",
      "Cost:  1\n",
      "Kernel:  linear\n",
      "Training Data:\n",
      "{'0': {'precision': 0.8900651465798045, 'recall': 0.8681493248610008, 'f1-score': 0.8789706473663049, 'support': 5036}, '1': {'precision': 0.8694968553459119, 'recall': 0.8912167606768735, 'f1-score': 0.8802228412256268, 'support': 4964}, 'accuracy': 0.8796, 'macro avg': {'precision': 0.8797810009628582, 'recall': 0.8796830427689372, 'f1-score': 0.8795967442959658, 'support': 10000}, 'weighted avg': {'precision': 0.8798550468113002, 'recall': 0.8796, 'f1-score': 0.8795922363980724, 'support': 10000}}\n",
      "Precision:  0.8798550468113002\n",
      "Recall:  0.8796\n",
      "F1-Score:  0.8795922363980724\n",
      "Test Data:\n",
      "{'0': {'precision': 0.916687247880135, 'recall': 0.8908, 'f1-score': 0.90355824238244, 'support': 12500}, '1': {'precision': 0.8937991130475376, 'recall': 0.91904, 'f1-score': 0.9062438370212599, 'support': 12500}, 'accuracy': 0.90492, 'macro avg': {'precision': 0.9052431804638363, 'recall': 0.90492, 'f1-score': 0.90490103970185, 'support': 25000}, 'weighted avg': {'precision': 0.9052431804638362, 'recall': 0.90492, 'f1-score': 0.9049010397018498, 'support': 25000}}\n",
      "Precision:  0.9052431804638362\n",
      "Recall:  0.90492\n",
      "F1-Score:  0.9049010397018498\n",
      "Cost:  1\n",
      "Kernel:  poly\n"
     ]
    },
    {
     "name": "stderr",
     "output_type": "stream",
     "text": [
      "/Users/varunnegandhi/anaconda3/lib/python3.7/site-packages/sklearn/svm/base.py:193: FutureWarning: The default value of gamma will change from 'auto' to 'scale' in version 0.22 to account better for unscaled features. Set gamma explicitly to 'auto' or 'scale' to avoid this warning.\n",
      "  \"avoid this warning.\", FutureWarning)\n",
      "/Users/varunnegandhi/anaconda3/lib/python3.7/site-packages/sklearn/metrics/classification.py:1437: UndefinedMetricWarning: Precision and F-score are ill-defined and being set to 0.0 in labels with no predicted samples.\n",
      "  'precision', 'predicted', average, warn_for)\n"
     ]
    },
    {
     "name": "stdout",
     "output_type": "stream",
     "text": [
      "Training Data:\n",
      "{'0': {'precision': 0.0, 'recall': 0.0, 'f1-score': 0.0, 'support': 5036}, '1': {'precision': 0.4964, 'recall': 1.0, 'f1-score': 0.6634589681903235, 'support': 4964}, 'accuracy': 0.4964, 'macro avg': {'precision': 0.2482, 'recall': 0.5, 'f1-score': 0.33172948409516173, 'support': 10000}, 'weighted avg': {'precision': 0.24641296000000001, 'recall': 0.4964, 'f1-score': 0.3293410318096766, 'support': 10000}}\n",
      "Precision:  0.24641296000000001\n",
      "Recall:  0.4964\n",
      "F1-Score:  0.3293410318096766\n",
      "Test Data:\n",
      "{'0': {'precision': 0.0, 'recall': 0.0, 'f1-score': 0.0, 'support': 12500}, '1': {'precision': 0.5, 'recall': 1.0, 'f1-score': 0.6666666666666666, 'support': 12500}, 'accuracy': 0.5, 'macro avg': {'precision': 0.25, 'recall': 0.5, 'f1-score': 0.3333333333333333, 'support': 25000}, 'weighted avg': {'precision': 0.25, 'recall': 0.5, 'f1-score': 0.33333333333333326, 'support': 25000}}\n",
      "Precision:  0.25\n",
      "Recall:  0.5\n",
      "F1-Score:  0.33333333333333326\n",
      "Cost:  1\n",
      "Kernel:  rbf\n"
     ]
    },
    {
     "name": "stderr",
     "output_type": "stream",
     "text": [
      "/Users/varunnegandhi/anaconda3/lib/python3.7/site-packages/sklearn/svm/base.py:193: FutureWarning: The default value of gamma will change from 'auto' to 'scale' in version 0.22 to account better for unscaled features. Set gamma explicitly to 'auto' or 'scale' to avoid this warning.\n",
      "  \"avoid this warning.\", FutureWarning)\n",
      "/Users/varunnegandhi/anaconda3/lib/python3.7/site-packages/sklearn/metrics/classification.py:1437: UndefinedMetricWarning: Precision and F-score are ill-defined and being set to 0.0 in labels with no predicted samples.\n",
      "  'precision', 'predicted', average, warn_for)\n"
     ]
    },
    {
     "name": "stdout",
     "output_type": "stream",
     "text": [
      "Training Data:\n",
      "{'0': {'precision': 0.0, 'recall': 0.0, 'f1-score': 0.0, 'support': 5036}, '1': {'precision': 0.4964, 'recall': 1.0, 'f1-score': 0.6634589681903235, 'support': 4964}, 'accuracy': 0.4964, 'macro avg': {'precision': 0.2482, 'recall': 0.5, 'f1-score': 0.33172948409516173, 'support': 10000}, 'weighted avg': {'precision': 0.24641296000000001, 'recall': 0.4964, 'f1-score': 0.3293410318096766, 'support': 10000}}\n",
      "Precision:  0.24641296000000001\n",
      "Recall:  0.4964\n",
      "F1-Score:  0.3293410318096766\n",
      "Test Data:\n",
      "{'0': {'precision': 0.0, 'recall': 0.0, 'f1-score': 0.0, 'support': 12500}, '1': {'precision': 0.5, 'recall': 1.0, 'f1-score': 0.6666666666666666, 'support': 12500}, 'accuracy': 0.5, 'macro avg': {'precision': 0.25, 'recall': 0.5, 'f1-score': 0.3333333333333333, 'support': 25000}, 'weighted avg': {'precision': 0.25, 'recall': 0.5, 'f1-score': 0.33333333333333326, 'support': 25000}}\n",
      "Precision:  0.25\n",
      "Recall:  0.5\n",
      "F1-Score:  0.33333333333333326\n",
      "Cost:  1\n",
      "Kernel:  sigmoid\n"
     ]
    },
    {
     "name": "stderr",
     "output_type": "stream",
     "text": [
      "/Users/varunnegandhi/anaconda3/lib/python3.7/site-packages/sklearn/svm/base.py:193: FutureWarning: The default value of gamma will change from 'auto' to 'scale' in version 0.22 to account better for unscaled features. Set gamma explicitly to 'auto' or 'scale' to avoid this warning.\n",
      "  \"avoid this warning.\", FutureWarning)\n",
      "/Users/varunnegandhi/anaconda3/lib/python3.7/site-packages/sklearn/metrics/classification.py:1437: UndefinedMetricWarning: Precision and F-score are ill-defined and being set to 0.0 in labels with no predicted samples.\n",
      "  'precision', 'predicted', average, warn_for)\n"
     ]
    },
    {
     "name": "stdout",
     "output_type": "stream",
     "text": [
      "Training Data:\n",
      "{'0': {'precision': 0.0, 'recall': 0.0, 'f1-score': 0.0, 'support': 5036}, '1': {'precision': 0.4964, 'recall': 1.0, 'f1-score': 0.6634589681903235, 'support': 4964}, 'accuracy': 0.4964, 'macro avg': {'precision': 0.2482, 'recall': 0.5, 'f1-score': 0.33172948409516173, 'support': 10000}, 'weighted avg': {'precision': 0.24641296000000001, 'recall': 0.4964, 'f1-score': 0.3293410318096766, 'support': 10000}}\n",
      "Precision:  0.24641296000000001\n",
      "Recall:  0.4964\n",
      "F1-Score:  0.3293410318096766\n",
      "Test Data:\n",
      "{'0': {'precision': 0.0, 'recall': 0.0, 'f1-score': 0.0, 'support': 12500}, '1': {'precision': 0.5, 'recall': 1.0, 'f1-score': 0.6666666666666666, 'support': 12500}, 'accuracy': 0.5, 'macro avg': {'precision': 0.25, 'recall': 0.5, 'f1-score': 0.3333333333333333, 'support': 25000}, 'weighted avg': {'precision': 0.25, 'recall': 0.5, 'f1-score': 0.33333333333333326, 'support': 25000}}\n",
      "Precision:  0.25\n",
      "Recall:  0.5\n",
      "F1-Score:  0.33333333333333326\n",
      "Cost:  10\n",
      "Kernel:  linear\n",
      "Training Data:\n",
      "{'0': {'precision': 0.8760666395774076, 'recall': 0.8562351072279587, 'f1-score': 0.8660373568989757, 'support': 5036}, '1': {'precision': 0.8574241827491138, 'recall': 0.8771152296535052, 'f1-score': 0.8671579366660027, 'support': 4964}, 'accuracy': 0.8666, 'macro avg': {'precision': 0.8667454111632606, 'recall': 0.8666751684407319, 'f1-score': 0.8665976467824892, 'support': 10000}, 'weighted avg': {'precision': 0.8668125240078425, 'recall': 0.8666, 'f1-score': 0.8665936126953279, 'support': 10000}}\n",
      "Precision:  0.8668125240078425\n",
      "Recall:  0.8666\n",
      "F1-Score:  0.8665936126953279\n",
      "Test Data:\n",
      "{'0': {'precision': 0.9262074037754352, 'recall': 0.90672, 'f1-score': 0.9163601083397341, 'support': 12500}, '1': {'precision': 0.9086421687690982, 'recall': 0.92776, 'f1-score': 0.918101571468155, 'support': 12500}, 'accuracy': 0.91724, 'macro avg': {'precision': 0.9174247862722666, 'recall': 0.91724, 'f1-score': 0.9172308399039446, 'support': 25000}, 'weighted avg': {'precision': 0.9174247862722666, 'recall': 0.91724, 'f1-score': 0.9172308399039446, 'support': 25000}}\n",
      "Precision:  0.9174247862722666\n",
      "Recall:  0.91724\n",
      "F1-Score:  0.9172308399039446\n",
      "Cost:  10\n",
      "Kernel:  poly\n"
     ]
    },
    {
     "name": "stderr",
     "output_type": "stream",
     "text": [
      "/Users/varunnegandhi/anaconda3/lib/python3.7/site-packages/sklearn/svm/base.py:193: FutureWarning: The default value of gamma will change from 'auto' to 'scale' in version 0.22 to account better for unscaled features. Set gamma explicitly to 'auto' or 'scale' to avoid this warning.\n",
      "  \"avoid this warning.\", FutureWarning)\n",
      "/Users/varunnegandhi/anaconda3/lib/python3.7/site-packages/sklearn/metrics/classification.py:1437: UndefinedMetricWarning: Precision and F-score are ill-defined and being set to 0.0 in labels with no predicted samples.\n",
      "  'precision', 'predicted', average, warn_for)\n"
     ]
    },
    {
     "name": "stdout",
     "output_type": "stream",
     "text": [
      "Training Data:\n",
      "{'0': {'precision': 0.0, 'recall': 0.0, 'f1-score': 0.0, 'support': 5036}, '1': {'precision': 0.4964, 'recall': 1.0, 'f1-score': 0.6634589681903235, 'support': 4964}, 'accuracy': 0.4964, 'macro avg': {'precision': 0.2482, 'recall': 0.5, 'f1-score': 0.33172948409516173, 'support': 10000}, 'weighted avg': {'precision': 0.24641296000000001, 'recall': 0.4964, 'f1-score': 0.3293410318096766, 'support': 10000}}\n",
      "Precision:  0.24641296000000001\n",
      "Recall:  0.4964\n",
      "F1-Score:  0.3293410318096766\n",
      "Test Data:\n",
      "{'0': {'precision': 0.0, 'recall': 0.0, 'f1-score': 0.0, 'support': 12500}, '1': {'precision': 0.5, 'recall': 1.0, 'f1-score': 0.6666666666666666, 'support': 12500}, 'accuracy': 0.5, 'macro avg': {'precision': 0.25, 'recall': 0.5, 'f1-score': 0.3333333333333333, 'support': 25000}, 'weighted avg': {'precision': 0.25, 'recall': 0.5, 'f1-score': 0.33333333333333326, 'support': 25000}}\n",
      "Precision:  0.25\n",
      "Recall:  0.5\n",
      "F1-Score:  0.33333333333333326\n",
      "Cost:  10\n",
      "Kernel:  rbf\n"
     ]
    },
    {
     "name": "stderr",
     "output_type": "stream",
     "text": [
      "/Users/varunnegandhi/anaconda3/lib/python3.7/site-packages/sklearn/svm/base.py:193: FutureWarning: The default value of gamma will change from 'auto' to 'scale' in version 0.22 to account better for unscaled features. Set gamma explicitly to 'auto' or 'scale' to avoid this warning.\n",
      "  \"avoid this warning.\", FutureWarning)\n"
     ]
    },
    {
     "name": "stdout",
     "output_type": "stream",
     "text": [
      "Training Data:\n",
      "{'0': {'precision': 0.9300888373889533, 'recall': 0.4781572676727562, 'f1-score': 0.6316065573770492, 'support': 5036}, '1': {'precision': 0.6453919848873296, 'recall': 0.9635374697824335, 'f1-score': 0.773010101010101, 'support': 4964}, 'accuracy': 0.7191, 'macro avg': {'precision': 0.7877404111381414, 'recall': 0.7208473687275948, 'f1-score': 0.7023083291935751, 'support': 10000}, 'weighted avg': {'precision': 0.7887653198071474, 'recall': 0.7191, 'f1-score': 0.7017992764364961, 'support': 10000}}\n",
      "Precision:  0.7887653198071474\n",
      "Recall:  0.7191\n",
      "F1-Score:  0.7017992764364961\n",
      "Test Data:\n",
      "{'0': {'precision': 0.9378598035895699, 'recall': 0.44312, 'f1-score': 0.6018689557752906, 'support': 12500}, '1': {'precision': 0.6354352152508641, 'recall': 0.97064, 'f1-score': 0.7680572260555802, 'support': 12500}, 'accuracy': 0.70688, 'macro avg': {'precision': 0.786647509420217, 'recall': 0.70688, 'f1-score': 0.6849630909154354, 'support': 25000}, 'weighted avg': {'precision': 0.786647509420217, 'recall': 0.70688, 'f1-score': 0.6849630909154355, 'support': 25000}}\n",
      "Precision:  0.786647509420217\n",
      "Recall:  0.70688\n",
      "F1-Score:  0.6849630909154355\n",
      "Cost:  10\n",
      "Kernel:  sigmoid\n"
     ]
    },
    {
     "name": "stderr",
     "output_type": "stream",
     "text": [
      "/Users/varunnegandhi/anaconda3/lib/python3.7/site-packages/sklearn/svm/base.py:193: FutureWarning: The default value of gamma will change from 'auto' to 'scale' in version 0.22 to account better for unscaled features. Set gamma explicitly to 'auto' or 'scale' to avoid this warning.\n",
      "  \"avoid this warning.\", FutureWarning)\n"
     ]
    },
    {
     "name": "stdout",
     "output_type": "stream",
     "text": [
      "Training Data:\n",
      "{'0': {'precision': 0.9873417721518988, 'recall': 0.015488482922954726, 'f1-score': 0.030498533724340172, 'support': 5036}, '1': {'precision': 0.5002519907267412, 'recall': 0.999798549556809, 'f1-score': 0.666845817937521, 'support': 4964}, 'accuracy': 0.5041, 'macro avg': {'precision': 0.74379688143932, 'recall': 0.5076435162398819, 'f1-score': 0.3486721758309306, 'support': 10000}, 'weighted avg': {'precision': 0.7455504046524506, 'recall': 0.5041, 'f1-score': 0.34638132560776314, 'support': 10000}}\n",
      "Precision:  0.7455504046524506\n",
      "Recall:  0.5041\n",
      "F1-Score:  0.34638132560776314\n",
      "Test Data:\n",
      "{'0': {'precision': 0.9872611464968153, 'recall': 0.0124, 'f1-score': 0.024492375760448763, 'support': 12500}, '1': {'precision': 0.5030793382441734, 'recall': 0.99984, 'f1-score': 0.6693623972364298, 'support': 12500}, 'accuracy': 0.50612, 'macro avg': {'precision': 0.7451702423704943, 'recall': 0.50612, 'f1-score': 0.34692738649843924, 'support': 25000}, 'weighted avg': {'precision': 0.7451702423704943, 'recall': 0.50612, 'f1-score': 0.3469273864984393, 'support': 25000}}\n",
      "Precision:  0.7451702423704943\n",
      "Recall:  0.50612\n",
      "F1-Score:  0.3469273864984393\n",
      "Cost:  100\n",
      "Kernel:  linear\n",
      "Training Data:\n",
      "{'0': {'precision': 0.8662200568412505, 'recall': 0.8472994440031771, 'f1-score': 0.856655290102389, 'support': 5036}, '1': {'precision': 0.8484430429641309, 'recall': 0.8672441579371475, 'f1-score': 0.8577405857740587, 'support': 4964}, 'accuracy': 0.8572, 'macro avg': {'precision': 0.8573315499026907, 'recall': 0.8572718009701623, 'f1-score': 0.8571979379382239, 'support': 10000}, 'weighted avg': {'precision': 0.8573955471526482, 'recall': 0.8572, 'f1-score': 0.857194030873806, 'support': 10000}}\n",
      "Precision:  0.8573955471526482\n",
      "Recall:  0.8572\n",
      "F1-Score:  0.857194030873806\n",
      "Test Data:\n",
      "{'0': {'precision': 0.928774697129848, 'recall': 0.91384, 'f1-score': 0.9212468244687286, 'support': 12500}, '1': {'precision': 0.9152035272813165, 'recall': 0.92992, 'f1-score': 0.9225030752747908, 'support': 12500}, 'accuracy': 0.92188, 'macro avg': {'precision': 0.9219891122055822, 'recall': 0.92188, 'f1-score': 0.9218749498717598, 'support': 25000}, 'weighted avg': {'precision': 0.9219891122055822, 'recall': 0.92188, 'f1-score': 0.9218749498717598, 'support': 25000}}\n",
      "Precision:  0.9219891122055822\n",
      "Recall:  0.92188\n",
      "F1-Score:  0.9218749498717598\n",
      "Cost:  100\n",
      "Kernel:  poly\n"
     ]
    },
    {
     "name": "stderr",
     "output_type": "stream",
     "text": [
      "/Users/varunnegandhi/anaconda3/lib/python3.7/site-packages/sklearn/svm/base.py:193: FutureWarning: The default value of gamma will change from 'auto' to 'scale' in version 0.22 to account better for unscaled features. Set gamma explicitly to 'auto' or 'scale' to avoid this warning.\n",
      "  \"avoid this warning.\", FutureWarning)\n",
      "/Users/varunnegandhi/anaconda3/lib/python3.7/site-packages/sklearn/metrics/classification.py:1437: UndefinedMetricWarning: Precision and F-score are ill-defined and being set to 0.0 in labels with no predicted samples.\n",
      "  'precision', 'predicted', average, warn_for)\n"
     ]
    },
    {
     "name": "stdout",
     "output_type": "stream",
     "text": [
      "Training Data:\n",
      "{'0': {'precision': 0.0, 'recall': 0.0, 'f1-score': 0.0, 'support': 5036}, '1': {'precision': 0.4964, 'recall': 1.0, 'f1-score': 0.6634589681903235, 'support': 4964}, 'accuracy': 0.4964, 'macro avg': {'precision': 0.2482, 'recall': 0.5, 'f1-score': 0.33172948409516173, 'support': 10000}, 'weighted avg': {'precision': 0.24641296000000001, 'recall': 0.4964, 'f1-score': 0.3293410318096766, 'support': 10000}}\n",
      "Precision:  0.24641296000000001\n",
      "Recall:  0.4964\n",
      "F1-Score:  0.3293410318096766\n",
      "Test Data:\n",
      "{'0': {'precision': 0.0, 'recall': 0.0, 'f1-score': 0.0, 'support': 12500}, '1': {'precision': 0.5, 'recall': 1.0, 'f1-score': 0.6666666666666666, 'support': 12500}, 'accuracy': 0.5, 'macro avg': {'precision': 0.25, 'recall': 0.5, 'f1-score': 0.3333333333333333, 'support': 25000}, 'weighted avg': {'precision': 0.25, 'recall': 0.5, 'f1-score': 0.33333333333333326, 'support': 25000}}\n",
      "Precision:  0.25\n",
      "Recall:  0.5\n",
      "F1-Score:  0.33333333333333326\n",
      "Cost:  100\n",
      "Kernel:  rbf\n"
     ]
    },
    {
     "name": "stderr",
     "output_type": "stream",
     "text": [
      "/Users/varunnegandhi/anaconda3/lib/python3.7/site-packages/sklearn/svm/base.py:193: FutureWarning: The default value of gamma will change from 'auto' to 'scale' in version 0.22 to account better for unscaled features. Set gamma explicitly to 'auto' or 'scale' to avoid this warning.\n",
      "  \"avoid this warning.\", FutureWarning)\n"
     ]
    },
    {
     "name": "stdout",
     "output_type": "stream",
     "text": [
      "Training Data:\n",
      "{'0': {'precision': 0.8971061093247589, 'recall': 0.8310166799046863, 'f1-score': 0.8627976497268323, 'support': 5036}, '1': {'precision': 0.8404873477038426, 'recall': 0.9033037872683319, 'f1-score': 0.8707641518594038, 'support': 4964}, 'accuracy': 0.8669, 'macro avg': {'precision': 0.8687967285143008, 'recall': 0.8671602335865092, 'f1-score': 0.866780900793118, 'support': 10000}, 'weighted avg': {'precision': 0.869000556056136, 'recall': 0.8669, 'f1-score': 0.8667522213854408, 'support': 10000}}\n",
      "Precision:  0.869000556056136\n",
      "Recall:  0.8669\n",
      "F1-Score:  0.8667522213854408\n",
      "Test Data:\n",
      "{'0': {'precision': 0.9107270773638968, 'recall': 0.81368, 'f1-score': 0.8594727057630555, 'support': 12500}, '1': {'precision': 0.8316223250433776, 'recall': 0.92024, 'f1-score': 0.8736898070788395, 'support': 12500}, 'accuracy': 0.86696, 'macro avg': {'precision': 0.8711747012036373, 'recall': 0.86696, 'f1-score': 0.8665812564209474, 'support': 25000}, 'weighted avg': {'precision': 0.8711747012036373, 'recall': 0.86696, 'f1-score': 0.8665812564209475, 'support': 25000}}\n",
      "Precision:  0.8711747012036373\n",
      "Recall:  0.86696\n",
      "F1-Score:  0.8665812564209475\n",
      "Cost:  100\n",
      "Kernel:  sigmoid\n"
     ]
    },
    {
     "name": "stderr",
     "output_type": "stream",
     "text": [
      "/Users/varunnegandhi/anaconda3/lib/python3.7/site-packages/sklearn/svm/base.py:193: FutureWarning: The default value of gamma will change from 'auto' to 'scale' in version 0.22 to account better for unscaled features. Set gamma explicitly to 'auto' or 'scale' to avoid this warning.\n",
      "  \"avoid this warning.\", FutureWarning)\n"
     ]
    },
    {
     "name": "stdout",
     "output_type": "stream",
     "text": [
      "Training Data:\n",
      "{'0': {'precision': 0.895246677179545, 'recall': 0.7891183478951549, 'f1-score': 0.8388390501319262, 'support': 5036}, '1': {'precision': 0.8090271533896781, 'recall': 0.9063255439161966, 'f1-score': 0.854916864608076, 'support': 4964}, 'accuracy': 0.8473, 'macro avg': {'precision': 0.8521369152846116, 'recall': 0.8477219459056757, 'f1-score': 0.8468779573700012, 'support': 10000}, 'weighted avg': {'precision': 0.852447305570255, 'recall': 0.8473, 'f1-score': 0.846820077237887, 'support': 10000}}\n",
      "Precision:  0.852447305570255\n",
      "Recall:  0.8473\n",
      "F1-Score:  0.846820077237887\n",
      "Test Data:\n",
      "{'0': {'precision': 0.910856384994316, 'recall': 0.7692, 'f1-score': 0.8340562109646079, 'support': 12500}, '1': {'precision': 0.8002630850180006, 'recall': 0.92472, 'f1-score': 0.858001781472684, 'support': 12500}, 'accuracy': 0.84696, 'macro avg': {'precision': 0.8555597350061583, 'recall': 0.8469599999999999, 'f1-score': 0.846028996218646, 'support': 25000}, 'weighted avg': {'precision': 0.8555597350061583, 'recall': 0.84696, 'f1-score': 0.846028996218646, 'support': 25000}}\n",
      "Precision:  0.8555597350061583\n",
      "Recall:  0.84696\n",
      "F1-Score:  0.846028996218646\n"
     ]
    }
   ],
   "source": [
    "for n in [0.1,1,10,100]:    \n",
    "    for k in ['linear','poly','rbf','sigmoid']:\n",
    "        print(\"Cost: \",n)\n",
    "        print(\"Kernel: \",k)\n",
    "        classifier_linear = svm.SVC(kernel=k,C=n)\n",
    "        classifier_linear.fit(train_vectors, y_train)\n",
    "        prediction_linear = classifier_linear.predict(test_vectors)\n",
    "        report = classification_report(y_test, prediction_linear, output_dict=True)\n",
    "        print(\"Training Data:\")\n",
    "        print(report)\n",
    "        print(\"Precision: \",report['weighted avg']['precision'])\n",
    "        print(\"Recall: \",report['weighted avg']['recall'])\n",
    "        print(\"F1-Score: \",report['weighted avg']['f1-score'])\n",
    "        data_test_x = data_test['SentimentText']\n",
    "        data_test_y = data_test['Sentiment']\n",
    "        test1_vector = cv.transform(data_test_x)\n",
    "        prediction_linear_test = classifier_linear.predict(test1_vector)\n",
    "        report = classification_report(data_test_y, prediction_linear_test, output_dict=True)\n",
    "        print(\"Test Data:\")\n",
    "        print(report)\n",
    "        print(\"Precision: \",report['weighted avg']['precision'])\n",
    "        print(\"Recall: \",report['weighted avg']['recall'])\n",
    "        print(\"F1-Score: \",report['weighted avg']['f1-score'])"
   ]
  },
  {
   "cell_type": "code",
   "execution_count": null,
   "metadata": {},
   "outputs": [],
   "source": [
    "for n in range(150, 651, 100):\n",
    "    print(\"Cost: \",n)\n",
    "    print(\"Kernel: \",'linear')\n",
    "    classifier_linear = svm.SVC(kernel='linear',C=n)\n",
    "    classifier_linear.fit(train_vectors, y_train)\n",
    "    prediction_linear = classifier_linear.predict(test_vectors)\n",
    "    report = classification_report(y_test, prediction_linear, output_dict=True)\n",
    "    print(\"Training Data:\")\n",
    "    print(report)\n",
    "    print(\"Precision: \",report['weighted avg']['precision'])\n",
    "    print(\"Recall: \",report['weighted avg']['recall'])\n",
    "    print(\"F1-Score: \",report['weighted avg']['f1-score'])\n",
    "    data_test_x = data_test['SentimentText']\n",
    "    data_test_y = data_test['Sentiment']\n",
    "    test1_vector = cv.transform(data_test_x)\n",
    "    prediction_linear_test = classifier_linear.predict(test1_vector)\n",
    "    report = classification_report(data_test_y, prediction_linear_test, output_dict=True)\n",
    "    print(\"Test Data:\")\n",
    "    print(report)\n",
    "    print(\"Precision: \",report['weighted avg']['precision'])\n",
    "    print(\"Recall: \",report['weighted avg']['recall'])\n",
    "    print(\"F1-Score: \",report['weighted avg']['f1-score'])"
   ]
  },
  {
   "cell_type": "code",
   "execution_count": null,
   "metadata": {},
   "outputs": [],
   "source": []
  }
 ],
 "metadata": {
  "kernelspec": {
   "display_name": "Python 3",
   "language": "python",
   "name": "python3"
  },
  "language_info": {
   "codemirror_mode": {
    "name": "ipython",
    "version": 3
   },
   "file_extension": ".py",
   "mimetype": "text/x-python",
   "name": "python",
   "nbconvert_exporter": "python",
   "pygments_lexer": "ipython3",
   "version": "3.7.1"
  }
 },
 "nbformat": 4,
 "nbformat_minor": 4
}
